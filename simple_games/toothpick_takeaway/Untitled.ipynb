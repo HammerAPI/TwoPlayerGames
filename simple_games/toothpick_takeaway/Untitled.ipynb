{
 "cells": [
  {
   "cell_type": "code",
   "execution_count": null,
   "metadata": {},
   "outputs": [],
   "source": [
    "from takeaway_board import TakeawayBoard\n",
    "from takeaway_referee import TakeawayReferee\n",
    "from takeaway_game import TakeawayGame\n",
    "from takeaway_player import TakeawayPlayer"
   ]
  },
  {
   "cell_type": "code",
   "execution_count": null,
   "metadata": {},
   "outputs": [],
   "source": [
    "from takeaway_strategies import *"
   ]
  },
  {
   "cell_type": "code",
   "execution_count": null,
   "metadata": {},
   "outputs": [],
   "source": [
    "my_board = TakeawayBoard(2)\n",
    "my_referee = TakeawayReferee(my_board)\n",
    "\n",
    "random_player_1 = TakeawayPlayer(player_name=\"player_1\",\n",
    "                                strategy = random_move)\n",
    "random_player_2 = TakeawayPlayer(player_name=\"player_2\",\n",
    "                               strategy = random_move)"
   ]
  },
  {
   "cell_type": "code",
   "execution_count": null,
   "metadata": {},
   "outputs": [],
   "source": [
    "my_game = TakeawayGame(board = my_board, \n",
    "                      referee = my_referee,\n",
    "                      players = [random_player_1, random_player_2])"
   ]
  },
  {
   "cell_type": "code",
   "execution_count": 5,
   "metadata": {},
   "outputs": [
    {
     "name": "stdout",
     "output_type": "stream",
     "text": [
      "player_1 drew 2 toothpicks\n",
      "2 toothpicks left\n"
     ]
    }
   ],
   "source": [
    "winner, history = my_game.play_game(narrated = True)"
   ]
  },
  {
   "cell_type": "code",
   "execution_count": 6,
   "metadata": {},
   "outputs": [
    {
     "data": {
      "text/plain": [
       "'player_1'"
      ]
     },
     "execution_count": 6,
     "metadata": {},
     "output_type": "execute_result"
    }
   ],
   "source": [
    "winner.player_name"
   ]
  },
  {
   "cell_type": "code",
   "execution_count": 7,
   "metadata": {},
   "outputs": [
    {
     "data": {
      "text/plain": [
       "{2: {'name': 'player_1', 'move': 2}}"
      ]
     },
     "execution_count": 7,
     "metadata": {},
     "output_type": "execute_result"
    }
   ],
   "source": [
    "history"
   ]
  },
  {
   "cell_type": "code",
   "execution_count": 8,
   "metadata": {},
   "outputs": [
    {
     "data": {
      "text/plain": [
       "{2: {'name': 'player_1', 'move': 2}}"
      ]
     },
     "execution_count": 8,
     "metadata": {},
     "output_type": "execute_result"
    }
   ],
   "source": [
    "history"
   ]
  },
  {
   "cell_type": "code",
   "execution_count": 11,
   "metadata": {},
   "outputs": [],
   "source": [
    "my_board = TakeawayBoard(5)\n",
    "my_referee = TakeawayReferee(my_board)\n",
    "\n",
    "human_player_1 = TakeawayPlayer(player_name=\"player_1\",\n",
    "                                strategy = human_player)\n",
    "human_player_2 = TakeawayPlayer(player_name=\"player_2\",\n",
    "                               strategy = human_player)\n",
    "\n",
    "my_game = TakeawayGame(board = my_board,\n",
    "                      referee = my_referee,\n",
    "                      players = [human_player_1,\n",
    "                                human_player_2])"
   ]
  },
  {
   "cell_type": "code",
   "execution_count": 10,
   "metadata": {},
   "outputs": [
    {
     "name": "stdin",
     "output_type": "stream",
     "text": [
      "Please make your move: \n",
      " 1\n"
     ]
    },
    {
     "data": {
      "text/plain": [
       "(<takeaway_player.TakeawayPlayer at 0x10ba7bf10>,\n",
       " {1: {'name': 'player_1', 'move': 1}})"
      ]
     },
     "execution_count": 10,
     "metadata": {},
     "output_type": "execute_result"
    }
   ],
   "source": [
    "my_game.play_game()"
   ]
  },
  {
   "cell_type": "code",
   "execution_count": null,
   "metadata": {},
   "outputs": [],
   "source": []
  }
 ],
 "metadata": {
  "kernelspec": {
   "display_name": "Python 3",
   "language": "python",
   "name": "python3"
  },
  "language_info": {
   "codemirror_mode": {
    "name": "ipython",
    "version": 3
   },
   "file_extension": ".py",
   "mimetype": "text/x-python",
   "name": "python",
   "nbconvert_exporter": "python",
   "pygments_lexer": "ipython3",
   "version": "3.7.4"
  }
 },
 "nbformat": 4,
 "nbformat_minor": 4
}
