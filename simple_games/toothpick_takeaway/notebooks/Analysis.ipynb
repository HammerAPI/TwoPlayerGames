{
 "cells": [
  {
   "cell_type": "markdown",
   "metadata": {},
   "source": [
    "# Data Analysis of Toothpick Takeaway"
   ]
  },
  {
   "cell_type": "markdown",
   "metadata": {},
   "source": [
    "Analyzing the data from a given `.csv` of Toothpick Takeaway."
   ]
  },
  {
   "cell_type": "markdown",
   "metadata": {},
   "source": [
    "## The Big Question"
   ]
  },
  {
   "cell_type": "markdown",
   "metadata": {},
   "source": [
    "What is the chance of Player 1 winning by taking `x` toothpicks when there are `y` left on the table?"
   ]
  },
  {
   "cell_type": "markdown",
   "metadata": {},
   "source": [
    "## Broad Overview"
   ]
  },
  {
   "cell_type": "markdown",
   "metadata": {},
   "source": [
    "We have a `.csv` file with a exhaustive data about a game of Toothpick Takeaway. Great! Now what? We start analyzing!\n",
    "\n",
    "We want to look at individual moves in the game. Our aim is to isolate three specific pieces of information:\n",
    "1. Who moved\n",
    "2. How many toothpicks were taken\n",
    "3. Who won that game\n",
    "\n",
    "From this, we can derive an answer to our question by looking at this data across a large sample size of games."
   ]
  },
  {
   "cell_type": "markdown",
   "metadata": {},
   "source": [
    "---\n",
    "## Let's begin!"
   ]
  },
  {
   "cell_type": "markdown",
   "metadata": {},
   "source": [
    "### Viewing the Raw Data"
   ]
  },
  {
   "cell_type": "markdown",
   "metadata": {},
   "source": [
    "We'll start by getting a look at our raw data using the `read_csv()` function from the Python `pandas` library. "
   ]
  },
  {
   "cell_type": "code",
   "execution_count": 6,
   "metadata": {},
   "outputs": [],
   "source": [
    "import pandas as pd"
   ]
  },
  {
   "cell_type": "markdown",
   "metadata": {},
   "source": [
    "Now read in the data."
   ]
  },
  {
   "cell_type": "code",
   "execution_count": 165,
   "metadata": {},
   "outputs": [],
   "source": [
    "tt_df = pd.read_csv(\"../data_files/random_random_100.csv\")"
   ]
  },
  {
   "cell_type": "markdown",
   "metadata": {},
   "source": [
    "Let's see what our data looks like."
   ]
  },
  {
   "cell_type": "code",
   "execution_count": 227,
   "metadata": {},
   "outputs": [
    {
     "data": {
      "text/html": [
       "<div>\n",
       "<style scoped>\n",
       "    .dataframe tbody tr th:only-of-type {\n",
       "        vertical-align: middle;\n",
       "    }\n",
       "\n",
       "    .dataframe tbody tr th {\n",
       "        vertical-align: top;\n",
       "    }\n",
       "\n",
       "    .dataframe thead th {\n",
       "        text-align: right;\n",
       "    }\n",
       "</style>\n",
       "<table border=\"1\" class=\"dataframe\">\n",
       "  <thead>\n",
       "    <tr style=\"text-align: right;\">\n",
       "      <th></th>\n",
       "      <th>10</th>\n",
       "      <th>turn_10</th>\n",
       "      <th>9</th>\n",
       "      <th>turn_9</th>\n",
       "      <th>8</th>\n",
       "      <th>turn_8</th>\n",
       "      <th>7</th>\n",
       "      <th>turn_7</th>\n",
       "      <th>6</th>\n",
       "      <th>turn_6</th>\n",
       "      <th>...</th>\n",
       "      <th>turn_5</th>\n",
       "      <th>4</th>\n",
       "      <th>turn_4</th>\n",
       "      <th>3</th>\n",
       "      <th>turn_3</th>\n",
       "      <th>2</th>\n",
       "      <th>turn_2</th>\n",
       "      <th>1</th>\n",
       "      <th>turn_1</th>\n",
       "      <th>winner</th>\n",
       "    </tr>\n",
       "  </thead>\n",
       "  <tbody>\n",
       "    <tr>\n",
       "      <th>0</th>\n",
       "      <td>1</td>\n",
       "      <td>player_1</td>\n",
       "      <td>2</td>\n",
       "      <td>player_2</td>\n",
       "      <td>0</td>\n",
       "      <td>NaN</td>\n",
       "      <td>2</td>\n",
       "      <td>player_1</td>\n",
       "      <td>0</td>\n",
       "      <td>NaN</td>\n",
       "      <td>...</td>\n",
       "      <td>player_2</td>\n",
       "      <td>2</td>\n",
       "      <td>player_1</td>\n",
       "      <td>0</td>\n",
       "      <td>NaN</td>\n",
       "      <td>1</td>\n",
       "      <td>player_2</td>\n",
       "      <td>1.0</td>\n",
       "      <td>player_1</td>\n",
       "      <td>player_1</td>\n",
       "    </tr>\n",
       "    <tr>\n",
       "      <th>1</th>\n",
       "      <td>2</td>\n",
       "      <td>player_1</td>\n",
       "      <td>0</td>\n",
       "      <td>NaN</td>\n",
       "      <td>1</td>\n",
       "      <td>player_2</td>\n",
       "      <td>2</td>\n",
       "      <td>player_1</td>\n",
       "      <td>0</td>\n",
       "      <td>NaN</td>\n",
       "      <td>...</td>\n",
       "      <td>player_2</td>\n",
       "      <td>1</td>\n",
       "      <td>player_1</td>\n",
       "      <td>2</td>\n",
       "      <td>player_2</td>\n",
       "      <td>0</td>\n",
       "      <td>NaN</td>\n",
       "      <td>1.0</td>\n",
       "      <td>player_1</td>\n",
       "      <td>player_1</td>\n",
       "    </tr>\n",
       "    <tr>\n",
       "      <th>2</th>\n",
       "      <td>1</td>\n",
       "      <td>player_1</td>\n",
       "      <td>1</td>\n",
       "      <td>player_2</td>\n",
       "      <td>2</td>\n",
       "      <td>player_1</td>\n",
       "      <td>0</td>\n",
       "      <td>NaN</td>\n",
       "      <td>2</td>\n",
       "      <td>player_2</td>\n",
       "      <td>...</td>\n",
       "      <td>NaN</td>\n",
       "      <td>2</td>\n",
       "      <td>player_1</td>\n",
       "      <td>0</td>\n",
       "      <td>NaN</td>\n",
       "      <td>1</td>\n",
       "      <td>player_2</td>\n",
       "      <td>1.0</td>\n",
       "      <td>player_1</td>\n",
       "      <td>player_1</td>\n",
       "    </tr>\n",
       "    <tr>\n",
       "      <th>3</th>\n",
       "      <td>2</td>\n",
       "      <td>player_1</td>\n",
       "      <td>0</td>\n",
       "      <td>NaN</td>\n",
       "      <td>2</td>\n",
       "      <td>player_2</td>\n",
       "      <td>0</td>\n",
       "      <td>NaN</td>\n",
       "      <td>1</td>\n",
       "      <td>player_1</td>\n",
       "      <td>...</td>\n",
       "      <td>player_2</td>\n",
       "      <td>0</td>\n",
       "      <td>NaN</td>\n",
       "      <td>2</td>\n",
       "      <td>player_1</td>\n",
       "      <td>0</td>\n",
       "      <td>NaN</td>\n",
       "      <td>1.0</td>\n",
       "      <td>player_2</td>\n",
       "      <td>player_2</td>\n",
       "    </tr>\n",
       "    <tr>\n",
       "      <th>4</th>\n",
       "      <td>2</td>\n",
       "      <td>player_1</td>\n",
       "      <td>0</td>\n",
       "      <td>NaN</td>\n",
       "      <td>1</td>\n",
       "      <td>player_2</td>\n",
       "      <td>2</td>\n",
       "      <td>player_1</td>\n",
       "      <td>0</td>\n",
       "      <td>NaN</td>\n",
       "      <td>...</td>\n",
       "      <td>player_2</td>\n",
       "      <td>1</td>\n",
       "      <td>player_1</td>\n",
       "      <td>1</td>\n",
       "      <td>player_2</td>\n",
       "      <td>1</td>\n",
       "      <td>player_1</td>\n",
       "      <td>1.0</td>\n",
       "      <td>player_2</td>\n",
       "      <td>player_2</td>\n",
       "    </tr>\n",
       "  </tbody>\n",
       "</table>\n",
       "<p>5 rows × 21 columns</p>\n",
       "</div>"
      ],
      "text/plain": [
       "   10   turn_10  9    turn_9  8    turn_8  7    turn_7  6    turn_6  ...  \\\n",
       "0   1  player_1  2  player_2  0       NaN  2  player_1  0       NaN  ...   \n",
       "1   2  player_1  0       NaN  1  player_2  2  player_1  0       NaN  ...   \n",
       "2   1  player_1  1  player_2  2  player_1  0       NaN  2  player_2  ...   \n",
       "3   2  player_1  0       NaN  2  player_2  0       NaN  1  player_1  ...   \n",
       "4   2  player_1  0       NaN  1  player_2  2  player_1  0       NaN  ...   \n",
       "\n",
       "     turn_5  4    turn_4  3    turn_3  2    turn_2    1    turn_1    winner  \n",
       "0  player_2  2  player_1  0       NaN  1  player_2  1.0  player_1  player_1  \n",
       "1  player_2  1  player_1  2  player_2  0       NaN  1.0  player_1  player_1  \n",
       "2       NaN  2  player_1  0       NaN  1  player_2  1.0  player_1  player_1  \n",
       "3  player_2  0       NaN  2  player_1  0       NaN  1.0  player_2  player_2  \n",
       "4  player_2  1  player_1  1  player_2  1  player_1  1.0  player_2  player_2  \n",
       "\n",
       "[5 rows x 21 columns]"
      ]
     },
     "execution_count": 227,
     "metadata": {},
     "output_type": "execute_result"
    }
   ],
   "source": [
    "tt_df.head()"
   ]
  },
  {
   "cell_type": "markdown",
   "metadata": {},
   "source": [
    "Our data is very verbose and not entirely usable in its current state. We'll need to parse and edit it as we go along.\n",
    "\n",
    "The important takeaways are the following:\n",
    "1. On a game size of `n` toothpicks, there are `2n + 1` columns\n",
    "2. Columns are \"grouped\" into pairs representing \"Number of toothpicks left\" and \"Whose turn it is\"\n",
    "3. The index for the column representing `k` toothpicks left is located at `(2n - 1) - 2k`\n",
    "4. The index for whose turn it is when there are `k` toothpicks left is the index found in #3, + 1\n",
    "5. The winner is always in the last index\n",
    "6. Some columns are empty, because the prior column was a move of 2 toothpicks drawn"
   ]
  },
  {
   "cell_type": "markdown",
   "metadata": {},
   "source": [
    "### Writing a Fetching Function"
   ]
  },
  {
   "cell_type": "markdown",
   "metadata": {},
   "source": [
    "Now that we know what our data looks like, we can begin writing a function that isolates what we want.\n",
    "\n",
    "But what do we want it to do? Based on our previous takeaways from our raw data, we can set out to design a function that accomplishes the following:\n",
    "\n",
    "Given the inputs of a **dataframe** (our game data), and the **number of toothpicks left** (the turn we want to fetch data from), the function should fetch the **number of toothpicks taken at that turn**, **whose took those toothpicks**, and **who won that game**.\n",
    "\n",
    "As a quality-of-life improvement, it would be nice if our function returned a dataframe with no missing values."
   ]
  },
  {
   "cell_type": "code",
   "execution_count": 402,
   "metadata": {},
   "outputs": [],
   "source": [
    "def fetch_turn_data(df, toothpicks_left):\n",
    "    \"\"\"\n",
    "    Gets the data of a specific turn in the game.\n",
    "    \n",
    "    Parameters:\n",
    "        df : DataFrame\n",
    "            The dataframe to index.\n",
    "        toothpicks_left : int\n",
    "            How many toothpicks were left at this turn.\n",
    "    \n",
    "    Returns:\n",
    "        A dataframe consisting of the who made the turn, how many toothpicks were taken, and who won that game.\n",
    "    \"\"\"\n",
    "    # Index (in the dataframe) of the move being analyzed\n",
    "    move_index = (len(df.columns) - 1) - (2 * toothpicks_left)\n",
    "    \n",
    "    # Column that represents how many toothpicks were taken at this turn\n",
    "    taken = move_index\n",
    "\n",
    "    # Whose turn was it\n",
    "    who_moved = move_index + 1\n",
    "\n",
    "    # Winner of the game\n",
    "    winner = len(df.columns) - 1\n",
    "\n",
    "    # Fetch the columns\n",
    "    turn = df[df.columns[[taken, who_moved, winner]]]\n",
    "\n",
    "    return turn.dropna()"
   ]
  },
  {
   "cell_type": "markdown",
   "metadata": {},
   "source": [
    "### Testing out fetching function"
   ]
  },
  {
   "cell_type": "markdown",
   "metadata": {},
   "source": [
    "Now that our function works, we should compare it to our original data and see if it returns what we expect."
   ]
  },
  {
   "cell_type": "code",
   "execution_count": 403,
   "metadata": {},
   "outputs": [
    {
     "data": {
      "text/html": [
       "<div>\n",
       "<style scoped>\n",
       "    .dataframe tbody tr th:only-of-type {\n",
       "        vertical-align: middle;\n",
       "    }\n",
       "\n",
       "    .dataframe tbody tr th {\n",
       "        vertical-align: top;\n",
       "    }\n",
       "\n",
       "    .dataframe thead th {\n",
       "        text-align: right;\n",
       "    }\n",
       "</style>\n",
       "<table border=\"1\" class=\"dataframe\">\n",
       "  <thead>\n",
       "    <tr style=\"text-align: right;\">\n",
       "      <th></th>\n",
       "      <th>9</th>\n",
       "      <th>turn_9</th>\n",
       "      <th>winner</th>\n",
       "    </tr>\n",
       "  </thead>\n",
       "  <tbody>\n",
       "    <tr>\n",
       "      <th>0</th>\n",
       "      <td>2</td>\n",
       "      <td>player_2</td>\n",
       "      <td>player_1</td>\n",
       "    </tr>\n",
       "    <tr>\n",
       "      <th>2</th>\n",
       "      <td>1</td>\n",
       "      <td>player_2</td>\n",
       "      <td>player_1</td>\n",
       "    </tr>\n",
       "    <tr>\n",
       "      <th>5</th>\n",
       "      <td>2</td>\n",
       "      <td>player_2</td>\n",
       "      <td>player_2</td>\n",
       "    </tr>\n",
       "    <tr>\n",
       "      <th>6</th>\n",
       "      <td>2</td>\n",
       "      <td>player_2</td>\n",
       "      <td>player_2</td>\n",
       "    </tr>\n",
       "    <tr>\n",
       "      <th>7</th>\n",
       "      <td>1</td>\n",
       "      <td>player_2</td>\n",
       "      <td>player_2</td>\n",
       "    </tr>\n",
       "  </tbody>\n",
       "</table>\n",
       "</div>"
      ],
      "text/plain": [
       "   9    turn_9    winner\n",
       "0  2  player_2  player_1\n",
       "2  1  player_2  player_1\n",
       "5  2  player_2  player_2\n",
       "6  2  player_2  player_2\n",
       "7  1  player_2  player_2"
      ]
     },
     "execution_count": 403,
     "metadata": {},
     "output_type": "execute_result"
    }
   ],
   "source": [
    "turn = fetch_turn_data(tt_df, 9)\n",
    "turn.head()"
   ]
  },
  {
   "cell_type": "code",
   "execution_count": 404,
   "metadata": {},
   "outputs": [
    {
     "data": {
      "text/html": [
       "<div>\n",
       "<style scoped>\n",
       "    .dataframe tbody tr th:only-of-type {\n",
       "        vertical-align: middle;\n",
       "    }\n",
       "\n",
       "    .dataframe tbody tr th {\n",
       "        vertical-align: top;\n",
       "    }\n",
       "\n",
       "    .dataframe thead th {\n",
       "        text-align: right;\n",
       "    }\n",
       "</style>\n",
       "<table border=\"1\" class=\"dataframe\">\n",
       "  <thead>\n",
       "    <tr style=\"text-align: right;\">\n",
       "      <th></th>\n",
       "      <th>4</th>\n",
       "      <th>turn_4</th>\n",
       "      <th>winner</th>\n",
       "    </tr>\n",
       "  </thead>\n",
       "  <tbody>\n",
       "    <tr>\n",
       "      <th>0</th>\n",
       "      <td>2</td>\n",
       "      <td>player_1</td>\n",
       "      <td>player_1</td>\n",
       "    </tr>\n",
       "    <tr>\n",
       "      <th>1</th>\n",
       "      <td>1</td>\n",
       "      <td>player_1</td>\n",
       "      <td>player_1</td>\n",
       "    </tr>\n",
       "    <tr>\n",
       "      <th>2</th>\n",
       "      <td>2</td>\n",
       "      <td>player_1</td>\n",
       "      <td>player_1</td>\n",
       "    </tr>\n",
       "    <tr>\n",
       "      <th>4</th>\n",
       "      <td>1</td>\n",
       "      <td>player_1</td>\n",
       "      <td>player_2</td>\n",
       "    </tr>\n",
       "    <tr>\n",
       "      <th>6</th>\n",
       "      <td>2</td>\n",
       "      <td>player_1</td>\n",
       "      <td>player_2</td>\n",
       "    </tr>\n",
       "  </tbody>\n",
       "</table>\n",
       "</div>"
      ],
      "text/plain": [
       "   4    turn_4    winner\n",
       "0  2  player_1  player_1\n",
       "1  1  player_1  player_1\n",
       "2  2  player_1  player_1\n",
       "4  1  player_1  player_2\n",
       "6  2  player_1  player_2"
      ]
     },
     "execution_count": 404,
     "metadata": {},
     "output_type": "execute_result"
    }
   ],
   "source": [
    "turn = fetch_turn_data(tt_df, 4)\n",
    "turn.head()"
   ]
  },
  {
   "cell_type": "markdown",
   "metadata": {},
   "source": [
    "So far so good! Our function returns exactly what we want: The number of toothpicks taken, who took them, and who won that game."
   ]
  },
  {
   "cell_type": "markdown",
   "metadata": {},
   "source": [
    "### Determining Probabilities"
   ]
  },
  {
   "cell_type": "markdown",
   "metadata": {},
   "source": [
    "We have a fetching function, but how exactly does this curated data help us? To truly be useful, we need to construct some probabilities out of it."
   ]
  },
  {
   "cell_type": "markdown",
   "metadata": {},
   "source": [
    "Consider the following data about when there were 3 toothpicks left:"
   ]
  },
  {
   "cell_type": "code",
   "execution_count": 405,
   "metadata": {},
   "outputs": [
    {
     "data": {
      "text/html": [
       "<div>\n",
       "<style scoped>\n",
       "    .dataframe tbody tr th:only-of-type {\n",
       "        vertical-align: middle;\n",
       "    }\n",
       "\n",
       "    .dataframe tbody tr th {\n",
       "        vertical-align: top;\n",
       "    }\n",
       "\n",
       "    .dataframe thead th {\n",
       "        text-align: right;\n",
       "    }\n",
       "</style>\n",
       "<table border=\"1\" class=\"dataframe\">\n",
       "  <thead>\n",
       "    <tr style=\"text-align: right;\">\n",
       "      <th></th>\n",
       "      <th>7</th>\n",
       "      <th>turn_7</th>\n",
       "      <th>winner</th>\n",
       "    </tr>\n",
       "  </thead>\n",
       "  <tbody>\n",
       "    <tr>\n",
       "      <th>0</th>\n",
       "      <td>2</td>\n",
       "      <td>player_1</td>\n",
       "      <td>player_1</td>\n",
       "    </tr>\n",
       "    <tr>\n",
       "      <th>1</th>\n",
       "      <td>2</td>\n",
       "      <td>player_1</td>\n",
       "      <td>player_1</td>\n",
       "    </tr>\n",
       "    <tr>\n",
       "      <th>4</th>\n",
       "      <td>2</td>\n",
       "      <td>player_1</td>\n",
       "      <td>player_2</td>\n",
       "    </tr>\n",
       "    <tr>\n",
       "      <th>5</th>\n",
       "      <td>2</td>\n",
       "      <td>player_1</td>\n",
       "      <td>player_2</td>\n",
       "    </tr>\n",
       "    <tr>\n",
       "      <th>6</th>\n",
       "      <td>1</td>\n",
       "      <td>player_1</td>\n",
       "      <td>player_2</td>\n",
       "    </tr>\n",
       "  </tbody>\n",
       "</table>\n",
       "</div>"
      ],
      "text/plain": [
       "   7    turn_7    winner\n",
       "0  2  player_1  player_1\n",
       "1  2  player_1  player_1\n",
       "4  2  player_1  player_2\n",
       "5  2  player_1  player_2\n",
       "6  1  player_1  player_2"
      ]
     },
     "execution_count": 405,
     "metadata": {},
     "output_type": "execute_result"
    }
   ],
   "source": [
    "turn = fetch_turn_data(tt_df, 7)\n",
    "turn.head()"
   ]
  },
  {
   "cell_type": "markdown",
   "metadata": {},
   "source": [
    "This is a good set of data to test with, as it contains a mix of moves, whose turn it was, and winners. For each game, we want to obtain two pieces of isolated data, `move made by Player 1` and `whether Player 1 won`. Once we obtain that data, we can assemble it into a final output of a single column representing:\n",
    "\n",
    "`<move made by Player 1> <win rate for Player 1>`"
   ]
  },
  {
   "cell_type": "markdown",
   "metadata": {},
   "source": [
    "Let's begin by removing all the rows in our dataframe that consist of a move by Player 2."
   ]
  },
  {
   "cell_type": "code",
   "execution_count": 406,
   "metadata": {},
   "outputs": [
    {
     "data": {
      "text/html": [
       "<div>\n",
       "<style scoped>\n",
       "    .dataframe tbody tr th:only-of-type {\n",
       "        vertical-align: middle;\n",
       "    }\n",
       "\n",
       "    .dataframe tbody tr th {\n",
       "        vertical-align: top;\n",
       "    }\n",
       "\n",
       "    .dataframe thead th {\n",
       "        text-align: right;\n",
       "    }\n",
       "</style>\n",
       "<table border=\"1\" class=\"dataframe\">\n",
       "  <thead>\n",
       "    <tr style=\"text-align: right;\">\n",
       "      <th></th>\n",
       "      <th>7</th>\n",
       "      <th>turn_7</th>\n",
       "      <th>winner</th>\n",
       "    </tr>\n",
       "  </thead>\n",
       "  <tbody>\n",
       "    <tr>\n",
       "      <th>0</th>\n",
       "      <td>2</td>\n",
       "      <td>player_1</td>\n",
       "      <td>player_1</td>\n",
       "    </tr>\n",
       "    <tr>\n",
       "      <th>1</th>\n",
       "      <td>2</td>\n",
       "      <td>player_1</td>\n",
       "      <td>player_1</td>\n",
       "    </tr>\n",
       "    <tr>\n",
       "      <th>4</th>\n",
       "      <td>2</td>\n",
       "      <td>player_1</td>\n",
       "      <td>player_2</td>\n",
       "    </tr>\n",
       "    <tr>\n",
       "      <th>5</th>\n",
       "      <td>2</td>\n",
       "      <td>player_1</td>\n",
       "      <td>player_2</td>\n",
       "    </tr>\n",
       "    <tr>\n",
       "      <th>6</th>\n",
       "      <td>1</td>\n",
       "      <td>player_1</td>\n",
       "      <td>player_2</td>\n",
       "    </tr>\n",
       "  </tbody>\n",
       "</table>\n",
       "</div>"
      ],
      "text/plain": [
       "   7    turn_7    winner\n",
       "0  2  player_1  player_1\n",
       "1  2  player_1  player_1\n",
       "4  2  player_1  player_2\n",
       "5  2  player_1  player_2\n",
       "6  1  player_1  player_2"
      ]
     },
     "execution_count": 406,
     "metadata": {},
     "output_type": "execute_result"
    }
   ],
   "source": [
    "rows_to_drop = [index for index in turn.index if turn[\"turn_7\"][index] == \"player_2\"]\n",
    "turn.drop(index = rows_to_drop, inplace = True)\n",
    "turn.head()"
   ]
  },
  {
   "cell_type": "markdown",
   "metadata": {},
   "source": [
    "Perfect! Now we have a small subset of the move made by Player 1 at a given turn. Let us recom"
   ]
  },
  {
   "cell_type": "code",
   "execution_count": 407,
   "metadata": {},
   "outputs": [],
   "source": [
    "# Create a list of all moves\n",
    "taken = []\n",
    "for move in turn[\"7\"]:\n",
    "    taken.append(move)\n",
    "\n",
    "# Create a list of whether or not Player 1 won each game\n",
    "wins = []\n",
    "for win in turn[\"winner\"]:\n",
    "    wins.append(win == \"player_1\")\n",
    "\n",
    "# Make a new DataFrame with the data\n",
    "data = pd.DataFrame(index = range(len(turn)), columns = [\"Taken\", \"Win\"])\n",
    "data[\"Taken\"] = taken\n",
    "data[\"Win\"] = wins"
   ]
  },
  {
   "cell_type": "code",
   "execution_count": 408,
   "metadata": {},
   "outputs": [
    {
     "data": {
      "text/html": [
       "<div>\n",
       "<style scoped>\n",
       "    .dataframe tbody tr th:only-of-type {\n",
       "        vertical-align: middle;\n",
       "    }\n",
       "\n",
       "    .dataframe tbody tr th {\n",
       "        vertical-align: top;\n",
       "    }\n",
       "\n",
       "    .dataframe thead th {\n",
       "        text-align: right;\n",
       "    }\n",
       "</style>\n",
       "<table border=\"1\" class=\"dataframe\">\n",
       "  <thead>\n",
       "    <tr style=\"text-align: right;\">\n",
       "      <th></th>\n",
       "      <th>Taken</th>\n",
       "      <th>Win</th>\n",
       "    </tr>\n",
       "  </thead>\n",
       "  <tbody>\n",
       "    <tr>\n",
       "      <th>0</th>\n",
       "      <td>2</td>\n",
       "      <td>True</td>\n",
       "    </tr>\n",
       "    <tr>\n",
       "      <th>1</th>\n",
       "      <td>2</td>\n",
       "      <td>True</td>\n",
       "    </tr>\n",
       "    <tr>\n",
       "      <th>2</th>\n",
       "      <td>2</td>\n",
       "      <td>False</td>\n",
       "    </tr>\n",
       "    <tr>\n",
       "      <th>3</th>\n",
       "      <td>2</td>\n",
       "      <td>False</td>\n",
       "    </tr>\n",
       "    <tr>\n",
       "      <th>4</th>\n",
       "      <td>1</td>\n",
       "      <td>False</td>\n",
       "    </tr>\n",
       "  </tbody>\n",
       "</table>\n",
       "</div>"
      ],
      "text/plain": [
       "   Taken    Win\n",
       "0      2   True\n",
       "1      2   True\n",
       "2      2  False\n",
       "3      2  False\n",
       "4      1  False"
      ]
     },
     "execution_count": 408,
     "metadata": {},
     "output_type": "execute_result"
    }
   ],
   "source": [
    "data.head()"
   ]
  },
  {
   "cell_type": "markdown",
   "metadata": {},
   "source": [
    "Much easier to read. Now our dataframe clearly shows how many toothpicks were taken by Player 1 and whether or not Player 1 won that game. Now we can move on to calculating win statistics."
   ]
  },
  {
   "cell_type": "code",
   "execution_count": 416,
   "metadata": {},
   "outputs": [],
   "source": [
    "# Dictionaries to represent the wins and losses of each move\n",
    "wins = {\"1\": 0, \"2\": 0}\n",
    "losses = {\"1\": 0, \"2\": 0}\n",
    "\n",
    "for item in data.index:\n",
    "    # Get the move\n",
    "    move = str(data[\"Taken\"][item])\n",
    "    \n",
    "    # If Player 1 won the game, increment the appropriate win counter\n",
    "    if data[\"Win\"][item]:\n",
    "        wins[move] += 1\n",
    "    else:\n",
    "        # Otherwise, increment the loss counter\n",
    "        losses[move] += 1"
   ]
  },
  {
   "cell_type": "code",
   "execution_count": 417,
   "metadata": {},
   "outputs": [
    {
     "name": "stdout",
     "output_type": "stream",
     "text": [
      "{'1': 15, '2': 5}\n",
      "{'1': 9, '2': 19}\n"
     ]
    }
   ],
   "source": [
    "print(wins)\n",
    "print(losses)"
   ]
  },
  {
   "cell_type": "markdown",
   "metadata": {},
   "source": [
    "Now we have data representing the number of wins and losses by Player 1 at a given turn when taking 1 or 2 toothpicks. We can finally compute probabilities."
   ]
  },
  {
   "cell_type": "code",
   "execution_count": 414,
   "metadata": {},
   "outputs": [
    {
     "data": {
      "text/plain": [
       "{'1': 0.625, '2': 0.20833333333333334}"
      ]
     },
     "execution_count": 414,
     "metadata": {},
     "output_type": "execute_result"
    }
   ],
   "source": [
    "win_chances = {\"1\": wins[\"1\"] / (wins[\"1\"] + losses[\"1\"]),\n",
    "               \"2\": wins[\"2\"] / (wins[\"2\"] + losses[\"2\"])}\n",
    "win_chances"
   ]
  },
  {
   "cell_type": "markdown",
   "metadata": {},
   "source": [
    "At last, we have determined the win chance for Player 1 at a given move when taking 1 or 2 toothpicks."
   ]
  },
  {
   "cell_type": "markdown",
   "metadata": {},
   "source": [
    "### Streamlined Statistics"
   ]
  },
  {
   "cell_type": "markdown",
   "metadata": {},
   "source": [
    "We have a working fetching function, and we can parse our turn-by-turn data into probabilities, but all of this code is sporadic. We should streamline it for better readability and use. We will put all of the same steps as before into a single function, but condensed and more generic."
   ]
  },
  {
   "cell_type": "code",
   "execution_count": 415,
   "metadata": {},
   "outputs": [],
   "source": [
    "def get_win_chances(df, toothpicks_left):\n",
    "    \"\"\"\n",
    "    Calculates the win chance for Player 1's two available moves at a specified turn in the game.\n",
    "    \n",
    "    Parameters:\n",
    "        df : DataFrame\n",
    "            The dataframe to index.\n",
    "        toothpicks_left : int\n",
    "            How many toothpicks were left at this turn.\n",
    "    \n",
    "    Returns:\n",
    "        A dictionary representing the win chances based on Player 1's possible move.\n",
    "    \"\"\"\n",
    "    # Index (in the dataframe) of the move being analyzed\n",
    "    move_index = (len(df.columns) - 1) - (2 * toothpicks_left)\n",
    "    \n",
    "    # Column that represents how many toothpicks were taken at this turn\n",
    "    taken = move_index\n",
    "\n",
    "    # Whose turn was it\n",
    "    who_moved = move_index + 1\n",
    "\n",
    "    # Winner of the game\n",
    "    winner = len(df.columns) - 1\n",
    "\n",
    "    # Fetch the columns\n",
    "    turn = df[df.columns[[taken, who_moved, winner]]].dropna()\n",
    "    \n",
    "    # Stringified index of the number of toothpicks left, used to index into the dataframe\n",
    "    turn_index = str(toothpicks_left)\n",
    "    \n",
    "    # More stringified data used for indexing\n",
    "    who_moved = \"turn_{}\".format(turn_index)\n",
    "    \n",
    "    # Drop rows where Player 2 moved\n",
    "    rows_to_drop = [index for index in turn.index if turn[who_moved][index] == \"player_2\"]\n",
    "    turn.drop(index = rows_to_drop, inplace = True)\n",
    "\n",
    "    # Dictionaries to represent the wins and losses of each move\n",
    "    wins = {\"1\": 0, \"2\": 0}\n",
    "    losses = {\"1\": 0, \"2\": 0}\n",
    "\n",
    "    # Collect wins/losses\n",
    "    for item in turn.index:\n",
    "        # Get the move\n",
    "        move = str(int(turn[turn_index][item]))\n",
    "    \n",
    "        # If Player 1 won the game, increment the appropriate win counter\n",
    "        if turn[\"winner\"][item] == \"player_1\":\n",
    "            wins[move] += 1\n",
    "        else:\n",
    "            # Otherwise, increment the loss counter\n",
    "            losses[move] += 1\n",
    "    \n",
    "    # Get the total number of games where each move occurred\n",
    "    total_take_1_games = wins[\"1\"] + losses[\"1\"]\n",
    "    total_take_2_games = wins[\"2\"] + losses[\"2\"]\n",
    "    \n",
    "    # Generate the probabilities for each move, accounting for division by 0\n",
    "    take_1_win_chance = wins[\"1\"] / total_take_1_games if total_take_1_games != 0 else 0\n",
    "    take_2_win_chance = wins[\"2\"] / total_take_2_games if total_take_2_games != 0 else 0\n",
    "\n",
    "    return {\"1\": take_1_win_chance, \"2\": take_2_win_chance}"
   ]
  },
  {
   "cell_type": "markdown",
   "metadata": {},
   "source": [
    "### Scaling it "
   ]
  },
  {
   "cell_type": "markdown",
   "metadata": {},
   "source": [
    "Now that we have a working fetching function, and we can parse our turn-by-turn data into probabilities, we should start compiling data about the moves of every turn in a given game."
   ]
  },
  {
   "cell_type": "code",
   "execution_count": 418,
   "metadata": {},
   "outputs": [
    {
     "name": "stdout",
     "output_type": "stream",
     "text": [
      "Toothpicks Left: 10, Take 1 win chance: 0.62, Take 2 win chance: 0.34\n",
      "Toothpicks Left:  9, Take 1 win chance: 0.00, Take 2 win chance: 0.00\n",
      "Toothpicks Left:  8, Take 1 win chance: 0.50, Take 2 win chance: 0.80\n",
      "Toothpicks Left:  7, Take 1 win chance: 0.62, Take 2 win chance: 0.21\n",
      "Toothpicks Left:  6, Take 1 win chance: 0.33, Take 2 win chance: 0.45\n",
      "Toothpicks Left:  5, Take 1 win chance: 0.62, Take 2 win chance: 0.88\n",
      "Toothpicks Left:  4, Take 1 win chance: 0.71, Take 2 win chance: 0.42\n",
      "Toothpicks Left:  3, Take 1 win chance: 0.13, Take 2 win chance: 0.25\n",
      "Toothpicks Left:  2, Take 1 win chance: 0.33, Take 2 win chance: 1.00\n",
      "Toothpicks Left:  1, Take 1 win chance: 1.00, Take 2 win chance: 0.00\n"
     ]
    }
   ],
   "source": [
    "for turn in range(10, 0, -1):\n",
    "    win_chances = get_win_chances(tt_df, turn)\n",
    "    take_1_percent = win_chances[\"1\"]\n",
    "    take_2_percent = win_chances[\"2\"]\n",
    "    print(\"Toothpicks Left: {:2d}, Take 1 win chance: {:.2f}, Take 2 win chance: {:.2f}\".format(turn, take_1_percent, take_2_percent))"
   ]
  },
  {
   "cell_type": "markdown",
   "metadata": {},
   "source": [
    "Excellent! Now that we have Player 1's win chances for each possible move at every turn, we can begin writing an optimal win strategy for Player 1."
   ]
  }
 ],
 "metadata": {
  "kernelspec": {
   "display_name": "Python 3",
   "language": "python",
   "name": "python3"
  },
  "language_info": {
   "codemirror_mode": {
    "name": "ipython",
    "version": 3
   },
   "file_extension": ".py",
   "mimetype": "text/x-python",
   "name": "python",
   "nbconvert_exporter": "python",
   "pygments_lexer": "ipython3",
   "version": "3.8.6"
  }
 },
 "nbformat": 4,
 "nbformat_minor": 4
}
