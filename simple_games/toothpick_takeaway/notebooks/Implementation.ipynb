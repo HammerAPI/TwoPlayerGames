{
 "cells": [
  {
   "cell_type": "markdown",
   "metadata": {},
   "source": [
    "# Example Implementation"
   ]
  },
  {
   "cell_type": "markdown",
   "metadata": {},
   "source": [
    "This notebook showcases an example implementation of Toothpick Takeaway."
   ]
  },
  {
   "cell_type": "markdown",
   "metadata": {},
   "source": [
    "## Import Necessary Files"
   ]
  },
  {
   "cell_type": "markdown",
   "metadata": {},
   "source": [
    "It may be necessary to change the interpreter's path to import the necessary files."
   ]
  },
  {
   "cell_type": "code",
   "execution_count": 1,
   "metadata": {},
   "outputs": [],
   "source": [
    "import sys\n",
    "sys.path.append(\"../..\")"
   ]
  },
  {
   "cell_type": "code",
   "execution_count": 2,
   "metadata": {},
   "outputs": [],
   "source": [
    "from classes.player import Player\n",
    "from classes.board import Board\n",
    "from classes.referee import Referee\n",
    "from classes.game import Game\n",
    "\n",
    "# Import the rulesets and strategy\n",
    "from toothpick_takeaway.classes.toothpick_ruleset import ToothpickRuleset\n",
    "from toothpick_takeaway.classes.toothpick_strategy import ToothpickStrategy"
   ]
  },
  {
   "cell_type": "markdown",
   "metadata": {},
   "source": [
    "## Create the Game"
   ]
  },
  {
   "cell_type": "markdown",
   "metadata": {},
   "source": [
    "* Initiate the ruleset and strategy/strategies\n",
    "* Create both players\n",
    "* Initiate the board\n",
    "* Declare referee, with ruleset\n",
    "* Start the game\n",
    "* Collect game data"
   ]
  },
  {
   "cell_type": "code",
   "execution_count": 13,
   "metadata": {},
   "outputs": [
    {
     "name": "stdout",
     "output_type": "stream",
     "text": [
      "player1 -> 2\n",
      "player2 -> 1\n",
      "player1 -> 1\n",
      "player2 -> 2\n",
      "player1 -> 1\n",
      "player2 -> 1\n",
      "player1 -> 1\n",
      "player2 -> None\n",
      "Winner: player1\n"
     ]
    }
   ],
   "source": [
    "ruleset =  ToothpickRuleset(\"Toothpick Takeaway Ruleset\", initial_state=10, bounds=2)\n",
    "strategy = ToothpickStrategy(\"Random Strategy for Toothpick Takeaway\")\n",
    "\n",
    "p1 = Player(\"player1\", strategy)\n",
    "p2 = Player(\"player2\", strategy)\n",
    "\n",
    "board = Board(ruleset.initial_state, ruleset.bounds)\n",
    "\n",
    "ref = Referee(board, ruleset)\n",
    "\n",
    "game = Game(ref, board, [p1, p2])\n",
    "\n",
    "board = game.play(True)"
   ]
  },
  {
   "cell_type": "markdown",
   "metadata": {},
   "source": [
    "## View the data"
   ]
  },
  {
   "cell_type": "markdown",
   "metadata": {},
   "source": [
    "The game's `play()` function returns the final state of the game board. To see game data, simply view the board's `data` field."
   ]
  },
  {
   "cell_type": "code",
   "execution_count": 4,
   "metadata": {},
   "outputs": [
    {
     "data": {
      "text/plain": [
       "{10: ('player1', 1),\n",
       " 9: ('player2', 2),\n",
       " 7: ('player1', 1),\n",
       " 6: ('player2', 1),\n",
       " 5: ('player1', 1),\n",
       " 4: ('player2', 2),\n",
       " 2: ('player1', 1),\n",
       " 1: ('player2', 1),\n",
       " 'winner': 'player2'}"
      ]
     },
     "execution_count": 4,
     "metadata": {},
     "output_type": "execute_result"
    }
   ],
   "source": [
    "board.data"
   ]
  },
  {
   "cell_type": "code",
   "execution_count": null,
   "metadata": {},
   "outputs": [],
   "source": []
  }
 ],
 "metadata": {
  "kernelspec": {
   "display_name": "Python 3",
   "language": "python",
   "name": "python3"
  },
  "language_info": {
   "codemirror_mode": {
    "name": "ipython",
    "version": 3
   },
   "file_extension": ".py",
   "mimetype": "text/x-python",
   "name": "python",
   "nbconvert_exporter": "python",
   "pygments_lexer": "ipython3",
   "version": "3.9.1"
  }
 },
 "nbformat": 4,
 "nbformat_minor": 4
}
