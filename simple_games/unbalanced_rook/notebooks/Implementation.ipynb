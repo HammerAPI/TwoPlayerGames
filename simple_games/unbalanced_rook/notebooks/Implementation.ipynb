{
 "cells": [
  {
   "cell_type": "markdown",
   "metadata": {},
   "source": [
    "# Example Implementation"
   ]
  },
  {
   "cell_type": "markdown",
   "metadata": {},
   "source": [
    "This notebook showcases an example implementation of Toothpick Takeaway."
   ]
  },
  {
   "cell_type": "markdown",
   "metadata": {},
   "source": [
    "## Import Necessary Files"
   ]
  },
  {
   "cell_type": "markdown",
   "metadata": {},
   "source": [
    "It may be necessary to change the interpreter's path to import the necessary files."
   ]
  },
  {
   "cell_type": "code",
   "execution_count": 23,
   "metadata": {},
   "outputs": [],
   "source": [
    "import sys\n",
    "sys.path.append(\"../..\")"
   ]
  },
  {
   "cell_type": "code",
   "execution_count": 24,
   "metadata": {},
   "outputs": [],
   "source": [
    "from generic_classes.player import Player\n",
    "from generic_classes.board import Board\n",
    "from generic_classes.referee import Referee\n",
    "from generic_classes.game import Game\n",
    "\n",
    "# Import the rulesets and strategy\n",
    "from unbalanced_rook.classes.rook_ruleset import RookRuleset\n",
    "from unbalanced_rook.classes.rook_strategy import RookStrategy"
   ]
  },
  {
   "cell_type": "markdown",
   "metadata": {},
   "source": [
    "## Create the Game"
   ]
  },
  {
   "cell_type": "markdown",
   "metadata": {},
   "source": [
    "* Initiate the ruleset and strategy/strategies\n",
    "* Create both players\n",
    "* Initiate the board\n",
    "* Declare referee, with ruleset\n",
    "* Start the game\n",
    "* Collect game data"
   ]
  },
  {
   "cell_type": "code",
   "execution_count": 28,
   "metadata": {},
   "outputs": [],
   "source": [
    "ruleset =  RookRuleset(\"Rook Takeaway Ruleset\", initial_state={\"D\": 0, \"R\": 0}, bounds={\"D\": 10, \"R\": 10})\n",
    "strategy = RookStrategy(\"Random Strategy for Unbalanced Rook\")\n",
    "\n",
    "p1 = Player(\"player1\", strategy)\n",
    "p2 = Player(\"player2\", strategy)\n",
    "\n",
    "board = Board(ruleset.initial_state, ruleset.bounds)\n",
    "\n",
    "ref = Referee(board, ruleset)\n",
    "\n",
    "game = Game(ref, board, [p1, p2])\n",
    "\n",
    "board = game.play()"
   ]
  },
  {
   "cell_type": "markdown",
   "metadata": {},
   "source": [
    "## View the data"
   ]
  },
  {
   "cell_type": "markdown",
   "metadata": {},
   "source": [
    "The game's `play()` function returns the final state of the game board. To see game data, simply view the board's `data` field."
   ]
  },
  {
   "cell_type": "code",
   "execution_count": 29,
   "metadata": {},
   "outputs": [
    {
     "data": {
      "text/plain": [
       "{'0,0': ('player1', {'direction': 'D', 'tiles': 5}),\n",
       " '0,5': ('player2', {'direction': 'D', 'tiles': 4}),\n",
       " '0,9': ('player1', {'direction': 'R', 'tiles': 4}),\n",
       " '4,9': ('player2', {'direction': 'R', 'tiles': 3}),\n",
       " '7,9': ('player1', {'direction': 'R', 'tiles': 2}),\n",
       " '9,9': ('player2', {'direction': 'R', 'tiles': 1}),\n",
       " '10,9': ('player1', {'direction': 'D', 'tiles': 1}),\n",
       " 'winner': 'player1'}"
      ]
     },
     "execution_count": 29,
     "metadata": {},
     "output_type": "execute_result"
    }
   ],
   "source": [
    "board.data"
   ]
  }
 ],
 "metadata": {
  "kernelspec": {
   "display_name": "Python 3",
   "language": "python",
   "name": "python3"
  },
  "language_info": {
   "codemirror_mode": {
    "name": "ipython",
    "version": 3
   },
   "file_extension": ".py",
   "mimetype": "text/x-python",
   "name": "python",
   "nbconvert_exporter": "python",
   "pygments_lexer": "ipython3",
   "version": "3.9.1"
  }
 },
 "nbformat": 4,
 "nbformat_minor": 4
}
