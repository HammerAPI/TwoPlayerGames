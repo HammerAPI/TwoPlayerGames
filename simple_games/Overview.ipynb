{
 "cells": [
  {
   "cell_type": "markdown",
   "metadata": {},
   "source": [
    "# Simple Two Player Games"
   ]
  },
  {
   "cell_type": "markdown",
   "metadata": {},
   "source": [
    "Requirements, constraints, and instructions."
   ]
  },
  {
   "cell_type": "markdown",
   "metadata": {},
   "source": [
    "## Requirements"
   ]
  },
  {
   "cell_type": "markdown",
   "metadata": {},
   "source": [
    "A Two Player Game must have some baseline functionality to operate. This functionality is met by properly implemented the required interfaces on a new `Ruleset` class and `Strategy` class."
   ]
  },
  {
   "cell_type": "markdown",
   "metadata": {},
   "source": [
    "### The Ruleset"
   ]
  },
  {
   "cell_type": "markdown",
   "metadata": {},
   "source": [
    "A ruleset is the set of rules that define how a game operates. Creating a ruleset involves implementing the required functions provided by the `RulesetInterface`. The functions consist of the following:\n",
    "\n",
    "* `__init__(name, initial_state, bounds = None)`: A constructor to setup the ruleset. A ruleset name (usually the game's name) must be provided. Additionally, the initial state of the game board must be specified. If necessary, the bounds of the game board may be provided. Think critically about what kind of board the game will need. For example, a game needing a tileboard needs bounds to determine its size.\n",
    "* `is_legal(board, proposed_move)`: Determines if the proposed move is legal given the current board state. This function does not need to know who made the move, as it only determines whether the move was legal or not. It **must** return either `True` or `False`.\n",
    "* `is_game_over(board)`: Determines if the game is over. This function must analyze the current state of the board to see if the end condition has been met. If the board is in an end state, the game is over. This function **must** return either `True` or `False`.\n",
    "* `update_board(board, player, move)`: Updates the board to reflect the move made. Also updates the board's move history logger, which is by default `board.data`. The index of the move history should be a stringified representation of the board's state and the value at that index should be a tuple containing the player's name and the move made."
   ]
  },
  {
   "cell_type": "markdown",
   "metadata": {},
   "source": [
    "### The Strategy"
   ]
  },
  {
   "cell_type": "markdown",
   "metadata": {},
   "source": [
    "A strategy determines how a player will make a move on the board. Creating a strategy involves implementing the required functions provided by the `StrategyInterface`. The functions consist of the following:\n",
    "\n",
    "* `__init__(name, data = None)`:  A constructor to setup the strategy. A strategy name must be provided. If desired, data can be provided to the strategy.\n",
    "* `move(board)`: Make a move on the given board based on the implemented strategy."
   ]
  },
  {
   "cell_type": "markdown",
   "metadata": {},
   "source": [
    "## Constraints"
   ]
  },
  {
   "cell_type": "markdown",
   "metadata": {},
   "source": [
    "No additional parameters may be passed into any of the functions. Additional functions may be added to each implementation, but all original functions must be implemented.\n",
    "\n",
    "Be mindful of how game data will be collected. The `board` has a `data` field that is a dictionary where the keys are strings representing the board state at the current move and the values are tuples containing the player's name and the move made at that move."
   ]
  },
  {
   "cell_type": "markdown",
   "metadata": {},
   "source": [
    "## Instructions"
   ]
  },
  {
   "cell_type": "markdown",
   "metadata": {},
   "source": [
    "All necessary files need to be imported, which can become cumbersome depending on where the game is being constructed relative to the necessary files."
   ]
  },
  {
   "cell_type": "raw",
   "metadata": {},
   "source": [
    "# The necessity of these import statements depends on whether\n",
    "# the game is constructed in a file or notebook\n",
    "import sys\n",
    "sys.path.append(\"..\")\n",
    "from generic_classes.player import Player\n",
    "from generic_classes.board import Board\n",
    "from generic_classes.referee import Referee\n",
    "from generic_classes.game import Game\n",
    "from <game_folder> import <Game>Ruleset\n",
    "from <game_folder> import <Game>Strategy"
   ]
  },
  {
   "cell_type": "markdown",
   "metadata": {},
   "source": [
    "Once all files are imported, the game can be constructed and ran with the following code:"
   ]
  },
  {
   "cell_type": "raw",
   "metadata": {},
   "source": [
    "ruleset = <Game>Ruleset(\"Basic <Game> Ruleset\", <initial board state>, [bounds])\n",
    "strategy = <Game>Strategy(\"<Strategy name> for <Game>\", [data])\n",
    "\n",
    "p1 = Player(\"player1\", strategy)\n",
    "p2 = Player(\"player2\", strategy)\n",
    "\n",
    "board = Board(ruleset.initial_state, ruleset.bounds)\n",
    "\n",
    "ref = Referee(board, ruleset)\n",
    "\n",
    "game = Game(ref, board, [p1, p2])\n",
    "\n",
    "board = game.play()"
   ]
  },
  {
   "cell_type": "markdown",
   "metadata": {},
   "source": [
    "## Example Implementation"
   ]
  },
  {
   "cell_type": "markdown",
   "metadata": {},
   "source": [
    "Below is an example implementation of a very simple guessing game game- We'll just call it *Guess*.\n",
    "\n",
    "The rules are simple: A random number is chosen to start. Both players alternate trying to guess the number. Players win when either they correctly guess the number number or their opponent guesses a previous-guessed number."
   ]
  },
  {
   "cell_type": "markdown",
   "metadata": {},
   "source": [
    "#### We begin by implementing the ruleset:"
   ]
  },
  {
   "cell_type": "code",
   "execution_count": 1,
   "metadata": {},
   "outputs": [],
   "source": [
    "import random\n",
    "from generic_classes.ruleset_interface import RulesetInterface\n",
    "\n",
    "class GuessRuleset(RulesetInterface):\n",
    "    def __init__(self, name, initial_state = 5, bounds = 10):\n",
    "        \"\"\"\n",
    "        Rulset constructor.\n",
    "        \n",
    "        Args:\n",
    "            name : The name of the ruleset\n",
    "            initial_state : The winning number\n",
    "            bounds : The losing number\n",
    "        \"\"\"\n",
    "        self.name = name\n",
    "        self.initial_state = initial_state\n",
    "        self.bounds = bounds\n",
    "    \n",
    "    def is_legal(self, board, proposed_move):\n",
    "        \"\"\"\n",
    "        Determines if the move proposed is legal.\n",
    "        \n",
    "        Args:\n",
    "            board : The board being played on\n",
    "            proposed_move : The move being proposed\n",
    "        \n",
    "        Return:\n",
    "            True if the guess was between 0 and the boards bounds and has not yet been guessed.\n",
    "        \"\"\"\n",
    "        return proposed_move >= 0 and proposed_move <= board.bounds and proposed_move not in list(board.data.keys())\n",
    "\n",
    "    def is_game_over(self, board):\n",
    "        \"\"\"\n",
    "        Determines if the game is over.\n",
    "        \n",
    "        Args:\n",
    "            board : The board being played on\n",
    "            \n",
    "        Return:\n",
    "            True if the guessed number is the winning or losing number.\n",
    "        \"\"\"\n",
    "        return board.state == self.bounds or board.state == self.initial_state\n",
    "    \n",
    "    def update_board(self, board, player, move):\n",
    "        \"\"\"\n",
    "        Updates board's state to reflect the current guess.\n",
    "        \n",
    "        Args:\n",
    "            board : The board being played on\n",
    "            player : The player who made the move\n",
    "            move : The move being made\n",
    "        \"\"\"\n",
    "        board.state = move\n",
    "        board.data[board.state] = (player.name, move)"
   ]
  },
  {
   "cell_type": "markdown",
   "metadata": {},
   "source": [
    "#### Next, we implement a strategy for each player to use:"
   ]
  },
  {
   "cell_type": "code",
   "execution_count": 24,
   "metadata": {},
   "outputs": [],
   "source": [
    "import random\n",
    "from generic_classes.strategy_interface import StrategyInterface\n",
    "\n",
    "class GuessStrategy(StrategyInterface):\n",
    "\n",
    "    def __init__(self, name, data = None):\n",
    "        \"\"\"\n",
    "        Strategy constructor.\n",
    "\n",
    "        Args:\n",
    "            name : The name of the strategy\n",
    "            data : Data to read from, if applicable\n",
    "        \"\"\"\n",
    "        self.name = name\n",
    "        self.data = data\n",
    "\n",
    "    def move(self, board):\n",
    "        \"\"\"\n",
    "        Randomly pick a number.\n",
    "        \n",
    "        Args:\n",
    "            board : The board being played on\n",
    "\n",
    "        Return:\n",
    "            A random number between 0 and the board's bounds.\n",
    "        \"\"\"\n",
    "        return random.randrange(0, board.bounds + 1)"
   ]
  },
  {
   "cell_type": "markdown",
   "metadata": {},
   "source": [
    "#### Now, assemble it all together"
   ]
  },
  {
   "cell_type": "code",
   "execution_count": 3,
   "metadata": {},
   "outputs": [],
   "source": [
    "from generic_classes.player import Player\n",
    "from generic_classes.board import Board\n",
    "from generic_classes.referee import Referee\n",
    "from generic_classes.game import Game"
   ]
  },
  {
   "cell_type": "code",
   "execution_count": 21,
   "metadata": {},
   "outputs": [],
   "source": [
    "ruleset = GuessRuleset(\"Basic Guess Ruleset\", 5, 10)\n",
    "strategy = GuessStrategy(\"Random Strategy for Guess\")\n",
    "\n",
    "p1 = Player(\"player1\", strategy)\n",
    "p2 = Player(\"player2\", strategy)\n",
    "\n",
    "board = Board(ruleset.initial_state, ruleset.bounds)\n",
    "\n",
    "ref = Referee(board, ruleset)\n",
    "\n",
    "game = Game(ref, board, [p1, p2])\n",
    "\n",
    "board = game.play()"
   ]
  },
  {
   "cell_type": "markdown",
   "metadata": {},
   "source": [
    "View the game data by accessing the `board.data` variable"
   ]
  },
  {
   "cell_type": "code",
   "execution_count": 22,
   "metadata": {},
   "outputs": [
    {
     "data": {
      "text/plain": [
       "{7: ('player1', 7),\n",
       " 6: ('player2', 6),\n",
       " 1: ('player1', 1),\n",
       " 9: ('player2', 9),\n",
       " 0: ('player1', 0),\n",
       " 'winner': 'player1'}"
      ]
     },
     "execution_count": 22,
     "metadata": {},
     "output_type": "execute_result"
    }
   ],
   "source": [
    "board.data"
   ]
  },
  {
   "cell_type": "markdown",
   "metadata": {},
   "source": [
    "Note: This example game is not flawless or very complex. However, it has enough restrictions that it showcases how to implement all necessary files properly."
   ]
  }
 ],
 "metadata": {
  "kernelspec": {
   "display_name": "Python 3",
   "language": "python",
   "name": "python3"
  },
  "language_info": {
   "codemirror_mode": {
    "name": "ipython",
    "version": 3
   },
   "file_extension": ".py",
   "mimetype": "text/x-python",
   "name": "python",
   "nbconvert_exporter": "python",
   "pygments_lexer": "ipython3",
   "version": "3.9.1"
  }
 },
 "nbformat": 4,
 "nbformat_minor": 4
}
