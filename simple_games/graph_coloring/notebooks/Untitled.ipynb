{
 "cells": [
  {
   "cell_type": "markdown",
   "id": "297bb65c",
   "metadata": {},
   "source": [
    "# Coloring on a 14 Node Graph"
   ]
  },
  {
   "cell_type": "code",
   "execution_count": 14,
   "id": "fc6a817e",
   "metadata": {},
   "outputs": [],
   "source": [
    "import sys"
   ]
  },
  {
   "cell_type": "code",
   "execution_count": 15,
   "id": "32ea7585",
   "metadata": {},
   "outputs": [],
   "source": [
    "sys.path.append(\"../..\")"
   ]
  },
  {
   "cell_type": "code",
   "execution_count": 16,
   "id": "bd20758f",
   "metadata": {},
   "outputs": [],
   "source": [
    "from classes.player import Player\n",
    "from classes.board import Board\n",
    "from classes.referee import Referee\n",
    "from classes.game import Game\n",
    "\n",
    "# Import the rulesets and strategy\n",
    "from graph_coloring.classes.gc_ruleset import GCRuleset\n",
    "from graph_coloring.classes.gc_simple_smart_strategy import GCSimpleSmartStrategy\n",
    "from graph_coloring.classes.gc_random_strategy import GCRandomStrategy\n",
    "from graph_coloring.classes.gc_data_strategy import GCDataStrategy"
   ]
  },
  {
   "cell_type": "markdown",
   "id": "df88ecfa",
   "metadata": {},
   "source": [
    "## Our Graph \n",
    "\n",
    "The graph below is the subject for this test. We will begin by testing a coloring scheme with $k = 4$ colors"
   ]
  },
  {
   "cell_type": "markdown",
   "id": "3711bb0d",
   "metadata": {},
   "source": [
    "![Graph](../../../assets/images/fourteen_node_graph.png)"
   ]
  },
  {
   "cell_type": "markdown",
   "id": "c9a069d9",
   "metadata": {},
   "source": [
    "Our `initial_state` of the board will be as follows:"
   ]
  },
  {
   "cell_type": "code",
   "execution_count": 32,
   "id": "67c22c99",
   "metadata": {},
   "outputs": [],
   "source": [
    "initial_state = [\n",
    "    {\"color\": 0, \"adj\": [2,3,4,5,6,7,8,9,10,11,12,13,14]},\n",
    "    {\"color\": 0, \"adj\": [1,3,4,5,6,7,8,9,10,11,12,13,14]},\n",
    "    {\"color\": 0, \"adj\": [1,2,4,5,6,7,8,9,10,11,12,13,14]},\n",
    "    {\"color\": 0, \"adj\": [1,2,3,5,6,7,8,9,10,11,12,13,14]},\n",
    "    {\"color\": 0, \"adj\": [1,2,3,4,6,7,8,9,10,11,12,13,14]},\n",
    "    {\"color\": 0, \"adj\": [1,2,3,4,5,7,8,9,10,11,12,13,14]},\n",
    "    {\"color\": 0, \"adj\": [1,2,3,4,5,6,8,9,10,11,12,13,14]},\n",
    "    {\"color\": 0, \"adj\": [1,2,3,4,5,6,7,9,10,11,12,13,14]},\n",
    "    {\"color\": 0, \"adj\": [1,2,3,4,5,6,7,8,10,11,12,13,14]},\n",
    "    {\"color\": 0, \"adj\": [1,2,3,4,5,6,7,8,9,11,12,13,14]},\n",
    "    {\"color\": 0, \"adj\": [1,2,3,4,5,6,7,8,9,10,12,13,14]},\n",
    "    {\"color\": 0, \"adj\": [1,2,3,4,5,6,7,8,9,10,11,13,14]},\n",
    "    {\"color\": 0, \"adj\": [1,2,3,4,5,6,7,8,9,10,11,12,14]},\n",
    "    {\"color\": 0, \"adj\": [1,2,3,4,5,6,7,8,9,10,11,12,13]},\n",
    "]"
   ]
  },
  {
   "cell_type": "markdown",
   "id": "468df00a",
   "metadata": {},
   "source": [
    "As already stated, $ k = 4 $ so our `bounds` will be"
   ]
  },
  {
   "cell_type": "code",
   "execution_count": 39,
   "id": "a66ba51a",
   "metadata": {},
   "outputs": [],
   "source": [
    "bounds = 16"
   ]
  },
  {
   "cell_type": "code",
   "execution_count": 40,
   "id": "3eaca108",
   "metadata": {},
   "outputs": [
    {
     "ename": "IndexError",
     "evalue": "list index out of range",
     "output_type": "error",
     "traceback": [
      "\u001b[0;31m---------------------------------------------------------------------------\u001b[0m",
      "\u001b[0;31mIndexError\u001b[0m                                Traceback (most recent call last)",
      "\u001b[0;32m<ipython-input-40-13ea4d0d4e20>\u001b[0m in \u001b[0;36m<module>\u001b[0;34m\u001b[0m\n\u001b[1;32m     12\u001b[0m \u001b[0mgame\u001b[0m \u001b[0;34m=\u001b[0m \u001b[0mGame\u001b[0m\u001b[0;34m(\u001b[0m\u001b[0mref\u001b[0m\u001b[0;34m,\u001b[0m \u001b[0mboard\u001b[0m\u001b[0;34m,\u001b[0m \u001b[0;34m[\u001b[0m\u001b[0mp1\u001b[0m\u001b[0;34m,\u001b[0m \u001b[0mp2\u001b[0m\u001b[0;34m]\u001b[0m\u001b[0;34m)\u001b[0m\u001b[0;34m\u001b[0m\u001b[0;34m\u001b[0m\u001b[0m\n\u001b[1;32m     13\u001b[0m \u001b[0;34m\u001b[0m\u001b[0m\n\u001b[0;32m---> 14\u001b[0;31m \u001b[0mboard\u001b[0m \u001b[0;34m=\u001b[0m \u001b[0mgame\u001b[0m\u001b[0;34m.\u001b[0m\u001b[0mplay\u001b[0m\u001b[0;34m(\u001b[0m\u001b[0;32mTrue\u001b[0m\u001b[0;34m)\u001b[0m\u001b[0;34m\u001b[0m\u001b[0;34m\u001b[0m\u001b[0m\n\u001b[0m\u001b[1;32m     15\u001b[0m \u001b[0mboard\u001b[0m\u001b[0;34m.\u001b[0m\u001b[0mdata\u001b[0m\u001b[0;34m\u001b[0m\u001b[0;34m\u001b[0m\u001b[0m\n",
      "\u001b[0;32m~/Workspace/TwoPlayerGames/simple_games/classes/game.py\u001b[0m in \u001b[0;36mplay\u001b[0;34m(self, narrated)\u001b[0m\n\u001b[1;32m     43\u001b[0m \u001b[0;34m\u001b[0m\u001b[0m\n\u001b[1;32m     44\u001b[0m         \u001b[0mwinner\u001b[0m \u001b[0;34m=\u001b[0m \u001b[0;32mNone\u001b[0m\u001b[0;34m\u001b[0m\u001b[0;34m\u001b[0m\u001b[0m\n\u001b[0;32m---> 45\u001b[0;31m         \u001b[0;32mwhile\u001b[0m \u001b[0;32mnot\u001b[0m \u001b[0mself\u001b[0m\u001b[0;34m.\u001b[0m\u001b[0mreferee\u001b[0m\u001b[0;34m.\u001b[0m\u001b[0mis_game_over\u001b[0m\u001b[0;34m(\u001b[0m\u001b[0mself\u001b[0m\u001b[0;34m.\u001b[0m\u001b[0mboard\u001b[0m\u001b[0;34m)\u001b[0m\u001b[0;34m:\u001b[0m\u001b[0;34m\u001b[0m\u001b[0;34m\u001b[0m\u001b[0m\n\u001b[0m\u001b[1;32m     46\u001b[0m \u001b[0;34m\u001b[0m\u001b[0m\n\u001b[1;32m     47\u001b[0m             \u001b[0;31m# Request a move from the current player\u001b[0m\u001b[0;34m\u001b[0m\u001b[0;34m\u001b[0m\u001b[0;34m\u001b[0m\u001b[0m\n",
      "\u001b[0;32m~/Workspace/TwoPlayerGames/simple_games/classes/referee.py\u001b[0m in \u001b[0;36mis_game_over\u001b[0;34m(self, board)\u001b[0m\n\u001b[1;32m     61\u001b[0m             \u001b[0;32mTrue\u001b[0m \u001b[0;32mif\u001b[0m \u001b[0mthe\u001b[0m \u001b[0mgame\u001b[0m \u001b[0;32mis\u001b[0m \u001b[0mover\u001b[0m\u001b[0;34m,\u001b[0m \u001b[0;32melse\u001b[0m \u001b[0;32mFalse\u001b[0m\u001b[0;34m.\u001b[0m\u001b[0;34m\u001b[0m\u001b[0;34m\u001b[0m\u001b[0m\n\u001b[1;32m     62\u001b[0m         \"\"\"\n\u001b[0;32m---> 63\u001b[0;31m         \u001b[0;32mreturn\u001b[0m \u001b[0mself\u001b[0m\u001b[0;34m.\u001b[0m\u001b[0mrules\u001b[0m\u001b[0;34m.\u001b[0m\u001b[0mis_game_over\u001b[0m\u001b[0;34m(\u001b[0m\u001b[0mboard\u001b[0m\u001b[0;34m)\u001b[0m\u001b[0;34m\u001b[0m\u001b[0;34m\u001b[0m\u001b[0m\n\u001b[0m\u001b[1;32m     64\u001b[0m \u001b[0;34m\u001b[0m\u001b[0m\n\u001b[1;32m     65\u001b[0m     \u001b[0;32mdef\u001b[0m \u001b[0mdeclare_winner\u001b[0m\u001b[0;34m(\u001b[0m\u001b[0mself\u001b[0m\u001b[0;34m,\u001b[0m \u001b[0mboard\u001b[0m\u001b[0;34m,\u001b[0m \u001b[0mplayers\u001b[0m\u001b[0;34m,\u001b[0m \u001b[0mwinner\u001b[0m\u001b[0;34m=\u001b[0m\u001b[0;32mNone\u001b[0m\u001b[0;34m)\u001b[0m\u001b[0;34m:\u001b[0m\u001b[0;34m\u001b[0m\u001b[0;34m\u001b[0m\u001b[0m\n",
      "\u001b[0;32m~/Workspace/TwoPlayerGames/simple_games/graph_coloring/classes/gc_ruleset.py\u001b[0m in \u001b[0;36mis_game_over\u001b[0;34m(self, board)\u001b[0m\n\u001b[1;32m     86\u001b[0m \u001b[0;34m\u001b[0m\u001b[0m\n\u001b[1;32m     87\u001b[0m                 \u001b[0;31m# Get the colors of all the neighbors\u001b[0m\u001b[0;34m\u001b[0m\u001b[0;34m\u001b[0m\u001b[0;34m\u001b[0m\u001b[0m\n\u001b[0;32m---> 88\u001b[0;31m                 \u001b[0mneighbor_colors\u001b[0m \u001b[0;34m=\u001b[0m \u001b[0;34m[\u001b[0m\u001b[0mboard\u001b[0m\u001b[0;34m.\u001b[0m\u001b[0mstate\u001b[0m\u001b[0;34m[\u001b[0m\u001b[0mneighbor\u001b[0m\u001b[0;34m]\u001b[0m\u001b[0;34m[\u001b[0m\u001b[0;34m\"color\"\u001b[0m\u001b[0;34m]\u001b[0m \u001b[0;32mfor\u001b[0m \u001b[0mneighbor\u001b[0m \u001b[0;32min\u001b[0m \u001b[0mboard\u001b[0m\u001b[0;34m.\u001b[0m\u001b[0mstate\u001b[0m\u001b[0;34m[\u001b[0m\u001b[0mvtx\u001b[0m\u001b[0;34m]\u001b[0m\u001b[0;34m[\u001b[0m\u001b[0;34m\"adj\"\u001b[0m\u001b[0;34m]\u001b[0m\u001b[0;34m]\u001b[0m\u001b[0;34m\u001b[0m\u001b[0;34m\u001b[0m\u001b[0m\n\u001b[0m\u001b[1;32m     89\u001b[0m                 \u001b[0;31m# Get the valid colors for the current vertex\u001b[0m\u001b[0;34m\u001b[0m\u001b[0;34m\u001b[0m\u001b[0;34m\u001b[0m\u001b[0m\n\u001b[1;32m     90\u001b[0m                 \u001b[0mvalid_colors\u001b[0m \u001b[0;34m=\u001b[0m \u001b[0mlist\u001b[0m\u001b[0;34m(\u001b[0m\u001b[0mset\u001b[0m\u001b[0;34m(\u001b[0m\u001b[0mgame_colors\u001b[0m\u001b[0;34m)\u001b[0m \u001b[0;34m-\u001b[0m \u001b[0mset\u001b[0m\u001b[0;34m(\u001b[0m\u001b[0mneighbor_colors\u001b[0m\u001b[0;34m)\u001b[0m\u001b[0;34m)\u001b[0m\u001b[0;34m\u001b[0m\u001b[0;34m\u001b[0m\u001b[0m\n",
      "\u001b[0;32m~/Workspace/TwoPlayerGames/simple_games/graph_coloring/classes/gc_ruleset.py\u001b[0m in \u001b[0;36m<listcomp>\u001b[0;34m(.0)\u001b[0m\n\u001b[1;32m     86\u001b[0m \u001b[0;34m\u001b[0m\u001b[0m\n\u001b[1;32m     87\u001b[0m                 \u001b[0;31m# Get the colors of all the neighbors\u001b[0m\u001b[0;34m\u001b[0m\u001b[0;34m\u001b[0m\u001b[0;34m\u001b[0m\u001b[0m\n\u001b[0;32m---> 88\u001b[0;31m                 \u001b[0mneighbor_colors\u001b[0m \u001b[0;34m=\u001b[0m \u001b[0;34m[\u001b[0m\u001b[0mboard\u001b[0m\u001b[0;34m.\u001b[0m\u001b[0mstate\u001b[0m\u001b[0;34m[\u001b[0m\u001b[0mneighbor\u001b[0m\u001b[0;34m]\u001b[0m\u001b[0;34m[\u001b[0m\u001b[0;34m\"color\"\u001b[0m\u001b[0;34m]\u001b[0m \u001b[0;32mfor\u001b[0m \u001b[0mneighbor\u001b[0m \u001b[0;32min\u001b[0m \u001b[0mboard\u001b[0m\u001b[0;34m.\u001b[0m\u001b[0mstate\u001b[0m\u001b[0;34m[\u001b[0m\u001b[0mvtx\u001b[0m\u001b[0;34m]\u001b[0m\u001b[0;34m[\u001b[0m\u001b[0;34m\"adj\"\u001b[0m\u001b[0;34m]\u001b[0m\u001b[0;34m]\u001b[0m\u001b[0;34m\u001b[0m\u001b[0;34m\u001b[0m\u001b[0m\n\u001b[0m\u001b[1;32m     89\u001b[0m                 \u001b[0;31m# Get the valid colors for the current vertex\u001b[0m\u001b[0;34m\u001b[0m\u001b[0;34m\u001b[0m\u001b[0;34m\u001b[0m\u001b[0m\n\u001b[1;32m     90\u001b[0m                 \u001b[0mvalid_colors\u001b[0m \u001b[0;34m=\u001b[0m \u001b[0mlist\u001b[0m\u001b[0;34m(\u001b[0m\u001b[0mset\u001b[0m\u001b[0;34m(\u001b[0m\u001b[0mgame_colors\u001b[0m\u001b[0;34m)\u001b[0m \u001b[0;34m-\u001b[0m \u001b[0mset\u001b[0m\u001b[0;34m(\u001b[0m\u001b[0mneighbor_colors\u001b[0m\u001b[0;34m)\u001b[0m\u001b[0;34m)\u001b[0m\u001b[0;34m\u001b[0m\u001b[0;34m\u001b[0m\u001b[0m\n",
      "\u001b[0;31mIndexError\u001b[0m: list index out of range"
     ]
    }
   ],
   "source": [
    "ruleset =  GCRuleset(\"Graph Coloring Ruleset\", initial_state, bounds)\n",
    "smartrand_strategy = GCSimpleSmartStrategy(\"Simple Smart Strategy for Graph Coloring\")\n",
    "rand_strategy = GCRandomStrategy(\"Random Strategy for Graph Coloring\")\n",
    "\n",
    "p1 = Player(\"player1\", rand_strategy)\n",
    "p2 = Player(\"player2\", smartrand_strategy)\n",
    "\n",
    "board = Board(ruleset.initial_state, ruleset.bounds)\n",
    "\n",
    "ref = Referee(board, ruleset)\n",
    "\n",
    "game = Game(ref, board, [p1, p2])\n",
    "\n",
    "board = game.play(True)\n",
    "board.data"
   ]
  },
  {
   "cell_type": "code",
   "execution_count": null,
   "id": "01813dff",
   "metadata": {},
   "outputs": [],
   "source": []
  },
  {
   "cell_type": "code",
   "execution_count": null,
   "id": "eae97c4c",
   "metadata": {},
   "outputs": [],
   "source": []
  },
  {
   "cell_type": "code",
   "execution_count": null,
   "id": "88805e2d",
   "metadata": {},
   "outputs": [],
   "source": []
  }
 ],
 "metadata": {
  "kernelspec": {
   "display_name": "Python 3",
   "language": "python",
   "name": "python3"
  },
  "language_info": {
   "codemirror_mode": {
    "name": "ipython",
    "version": 3
   },
   "file_extension": ".py",
   "mimetype": "text/x-python",
   "name": "python",
   "nbconvert_exporter": "python",
   "pygments_lexer": "ipython3",
   "version": "3.8.5"
  }
 },
 "nbformat": 4,
 "nbformat_minor": 5
}
