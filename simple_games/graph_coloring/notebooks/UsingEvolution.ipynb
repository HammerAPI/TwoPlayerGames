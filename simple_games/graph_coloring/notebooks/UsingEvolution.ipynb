{
 "cells": [
  {
   "cell_type": "markdown",
   "metadata": {},
   "source": [
    "# Graph Coloring Evolution"
   ]
  },
  {
   "cell_type": "markdown",
   "metadata": {},
   "source": [
    "In this notebook, we will demonstrate how to use our provided evolutionary code on the graph coloring game.\n",
    "\n",
    "As always, we will begin with our imports"
   ]
  },
  {
   "cell_type": "code",
   "execution_count": 1,
   "metadata": {},
   "outputs": [],
   "source": [
    "import sys\n",
    "sys.path.append(\"../..\")"
   ]
  },
  {
   "cell_type": "code",
   "execution_count": 6,
   "metadata": {},
   "outputs": [],
   "source": [
    "from src.evolution import Evolution\n",
    "\n",
    "# Import the rulesets and strategy\n",
    "from graph_coloring.classes.gc_ruleset import GCRuleset\n",
    "from graph_coloring.classes.gc_data_strategy import GCDataStrategy"
   ]
  },
  {
   "cell_type": "markdown",
   "metadata": {},
   "source": [
    "To begin the process, we need a game ruleset and an example strategy. The ruleset is used to define how each game will be played, and the strategy is used as a reference when generating populations of players."
   ]
  },
  {
   "cell_type": "code",
   "execution_count": 7,
   "metadata": {},
   "outputs": [],
   "source": [
    "# Create a graph to play on\n",
    "initial_state = [\n",
    "    {\"color\": 0, \"adj\": [1, 2]},\n",
    "    {\"color\": 0, \"adj\": [0, 2, 3]},\n",
    "    {\"color\": 0, \"adj\": [0, 1, 3, 6]},\n",
    "    {\"color\": 0, \"adj\": [1, 2, 5]},\n",
    "    {\"color\": 0, \"adj\": [5]},\n",
    "    {\"color\": 0, \"adj\": [3, 4, 9]},\n",
    "    {\"color\": 0, \"adj\": [2, 7, 9]},\n",
    "    {\"color\": 0, \"adj\": [6, 8, 9]},\n",
    "    {\"color\": 0, \"adj\": [7]},\n",
    "    {\"color\": 0, \"adj\": [6, 7, 10]},\n",
    "    {\"color\": 0, \"adj\": [9]},\n",
    "]\n",
    "\n",
    "# Create our ruleset and strategy using the graph and bounds\n",
    "ruleset =  GCRuleset(\"Graph Coloring Ruleset\", initial_state, bounds=3)\n",
    "\n",
    "data = {\"vertices\": range(len(ruleset.initial_state)), \"colors\": range(1, ruleset.bounds + 1)}\n",
    "strategy = GCDataStrategy(\"Basic Data Strategy\", data)"
   ]
  },
  {
   "cell_type": "markdown",
   "metadata": {},
   "source": [
    "Next, we need to create a new `Evolution` object and pass in our example strategy to its constructor. This allows the object to create populations of random players with valid and unique strategies.\n",
    "\n",
    "We could add more parameters to our `Evolution` object, but we will discuss those later."
   ]
  },
  {
   "cell_type": "code",
   "execution_count": 11,
   "metadata": {},
   "outputs": [],
   "source": [
    "# Create a new Evolution instance with the example strategy\n",
    "evolution = Evolution(strategy)"
   ]
  },
  {
   "cell_type": "markdown",
   "metadata": {},
   "source": [
    "Now, all that's left is to run the `evolve()` function and watch the results!"
   ]
  },
  {
   "cell_type": "code",
   "execution_count": 9,
   "metadata": {},
   "outputs": [
    {
     "name": "stdout",
     "output_type": "stream",
     "text": [
      "\n",
      "ITERATION: 0, FITNESS: 0.5\n",
      "\tP1 Pop: 83\n",
      "\tP2 Pop: 59\n",
      "\n",
      "ITERATION: 1, FITNESS: 0.55\n",
      "\tP1 Pop: 63\n",
      "\tP2 Pop: 57\n",
      "\n",
      "ITERATION: 2, FITNESS: 0.6\n",
      "\tP1 Pop: 56\n",
      "\tP2 Pop: 36\n",
      "\n",
      "ITERATION: 3, FITNESS: 0.65\n",
      "\tP1 Pop: 51\n",
      "\tP2 Pop: 31\n",
      "\n",
      "ITERATION: 4, FITNESS: 0.7\n",
      "\tP1 Pop: 27\n",
      "\tP2 Pop: 24\n",
      "\n",
      "ITERATION: 5, FITNESS: 0.75\n",
      "\tP1 Pop: 50\n",
      "\tP2 Pop: 2\n",
      "\n",
      "ITERATION: 6, FITNESS: 0.8\n",
      "\tP1 Pop: 54\n",
      "\tP2 Pop: 0\n",
      "WARNING: Player 2 population too low! Repopulating randomly\n",
      "\n",
      "ITERATION: 7, FITNESS: 0.85\n",
      "\tP1 Pop: 51\n",
      "\tP2 Pop: 1\n",
      "WARNING: Player 2 population too low! Repopulating randomly\n",
      "\n",
      "ITERATION: 8, FITNESS: 0.9\n",
      "\tP1 Pop: 12\n",
      "\tP2 Pop: 1\n",
      "WARNING: Player 2 population too low! Repopulating randomly\n",
      "\n",
      "ITERATION: 9, FITNESS: 0.9\n",
      "\tP1 Pop: 4\n",
      "\tP2 Pop: 0\n",
      "WARNING: Player 2 population too low! Repopulating randomly\n"
     ]
    }
   ],
   "source": [
    "p1_pop, p2_pop = evolution.evolve(pop_size=128, ruleset=ruleset, iterations=10, fitness=.5, verbose=True)"
   ]
  },
  {
   "cell_type": "markdown",
   "metadata": {},
   "source": [
    "Now that all iterations have been run, we can view each member of the remaining populations with a simple loop."
   ]
  },
  {
   "cell_type": "code",
   "execution_count": 10,
   "metadata": {},
   "outputs": [
    {
     "name": "stdout",
     "output_type": "stream",
     "text": [
      "Player 1 #8.87: Evolved Strategy #87: {'vertices': [1, 5, 2, 10, 8, 4, 9, 6, 3, 0, 7], 'colors': [1, 2, 3]}\n",
      "Gen: 28 Wins: 23 Losses: 2\n",
      "Player 1 #8.103: Evolved Strategy #103: {'vertices': [1, 5, 10, 8, 2, 4, 6, 0, 9, 7, 3], 'colors': [1, 2, 3]}\n",
      "Gen: 26 Wins: 15 Losses: 2\n",
      "Player 1 #4.14: Evolved Strategy #14: {'vertices': [1, 5, 2, 10, 8, 9, 6, 0, 4, 7, 3], 'colors': [1, 3, 2]}\n",
      "Gen: 6 Wins: 78 Losses: 12\n",
      "Player 1 #8.115: Evolved Strategy #115: {'vertices': [5, 1, 2, 10, 8, 9, 4, 6, 0, 3, 7], 'colors': [1, 2, 3]}\n",
      "Gen: 30 Wins: 17 Losses: 4\n",
      "\n"
     ]
    }
   ],
   "source": [
    "for p1 in p1_pop:\n",
    "    if p1.fitness() > 0.5:\n",
    "        print(p1)\n",
    "print()\n",
    "for p2 in p2_pop:\n",
    "    if p2.fitness() > 0.5:\n",
    "        print(p2)"
   ]
  }
 ],
 "metadata": {
  "kernelspec": {
   "display_name": "Python 3",
   "language": "python",
   "name": "python3"
  },
  "language_info": {
   "codemirror_mode": {
    "name": "ipython",
    "version": 3
   },
   "file_extension": ".py",
   "mimetype": "text/x-python",
   "name": "python",
   "nbconvert_exporter": "python",
   "pygments_lexer": "ipython3",
   "version": "3.9.2"
  }
 },
 "nbformat": 4,
 "nbformat_minor": 4
}
