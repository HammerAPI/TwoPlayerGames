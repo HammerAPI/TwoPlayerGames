{
 "cells": [
  {
   "cell_type": "markdown",
   "metadata": {},
   "source": [
    "In this Notebook, we explore an implementation of the Two Player Graph Coloring game using our existing codebase."
   ]
  },
  {
   "cell_type": "markdown",
   "metadata": {},
   "source": [
    "Naturally, we begin by importing the necessary files"
   ]
  },
  {
   "cell_type": "code",
   "execution_count": 24,
   "metadata": {},
   "outputs": [],
   "source": [
    "import sys\n",
    "sys.path.append(\"../..\")\n",
    "\n",
    "from generic_classes.player import Player\n",
    "from generic_classes.board import Board\n",
    "from generic_classes.referee import Referee\n",
    "from generic_classes.game import Game\n",
    "from generic_classes.ruleset_interface import RulesetInterface\n",
    "from generic_classes.strategy_interface import StrategyInterface\n",
    "\n",
    "from random import randrange"
   ]
  },
  {
   "cell_type": "markdown",
   "metadata": {},
   "source": [
    "We now need to implement a ruleset for the game."
   ]
  },
  {
   "cell_type": "code",
   "execution_count": 92,
   "metadata": {},
   "outputs": [],
   "source": [
    "class GraphColoringRuleset(RulesetInterface):\n",
    "\n",
    "    def __init__(self, name, initial_state, bounds = None):\n",
    "        \"\"\"\n",
    "        Rulset constructor.\n",
    "\n",
    "        Args:\n",
    "            name : The name of the ruleset\n",
    "            initial_state : The initial state of the board\n",
    "            bounds : (Optional) The bounds of the board\n",
    "        \"\"\"\n",
    "        self.name = name\n",
    "        self.initial_state = initial_state\n",
    "        self.bounds = bounds\n",
    "\n",
    "    def is_legal(self, board, proposed_move):\n",
    "        \"\"\"\n",
    "        Determines if the move proposed is legal.\n",
    "\n",
    "        Args:\n",
    "            board : The board being played on\n",
    "            proposed_move : The move being proposed\n",
    "\n",
    "        Return:\n",
    "            True if the move was legal, else False.\n",
    "        \"\"\"\n",
    "        # If the vertex was not uncolored, the move is invalid\n",
    "        if board.state[proposed_move[\"vertex\"]][\"color\"] != 0:\n",
    "            return False\n",
    "        \n",
    "        # Otherwise, iterate over the neighbors of the vertex\n",
    "        for neighbor in board.state[proposed_move[\"vertex\"]][\"adj\"]:\n",
    "            # If any of the neighbors are colored with the same color, the move is invalid\n",
    "            if board.state[neighbor][\"color\"] == proposed_move[\"color\"]:\n",
    "                return False\n",
    "            \n",
    "        return True\n",
    "\n",
    "    def is_game_over(self, board):\n",
    "        \"\"\"\n",
    "        Determines if the game is over.\n",
    "\n",
    "        Args:\n",
    "            board : The board being played on\n",
    "\n",
    "        Return:\n",
    "            True if the state of the board is an end-game state, else False.\n",
    "        \"\"\"\n",
    "        # Case 1: Player 1 wins, the graph is entirely colored\n",
    "        num_colored = 0\n",
    "        for vtx in range(len(board.state)):\n",
    "            if board.state[vtx][\"color\"] != 0:\n",
    "                num_colored += 1\n",
    "        \n",
    "        # If the numbebr of nodes colored is equal to the number of nodes in the graph, the game is over\n",
    "        if num_colored == len(board.state):\n",
    "            return True\n",
    "        \n",
    "        # Case 2: The graph is in a state in which it is impossible to color any more vertices\n",
    "        for vtx in range(len(board.state)):\n",
    "            \n",
    "            # If there exists an uncolored vertex\n",
    "            if board.state[vtx][\"color\"] == 0:\n",
    "                # Create a set of the neighbor's colors\n",
    "                neighboring_colors = set()\n",
    "                \n",
    "                # Populate the set with the available colors\n",
    "                for neighbor in board.state[vtx][\"adj\"]:\n",
    "                    neighboring_colors.add(board.state[neighbor][\"color\"])\n",
    "                \n",
    "                # Special case: Remove \"uncolored\" from the neighboring colors set\n",
    "                if 0 in neighboring_colors:\n",
    "                    neighboring_colors.remove(0)\n",
    "                \n",
    "                # If the number of neighboring colors is equal to the bounds of the board, there are no available colors left to choose from\n",
    "                if len(neighboring_colors) == board.bounds:\n",
    "                    return True\n",
    "        return False\n",
    "                \n",
    "                \n",
    "\n",
    "    def update_board(self, board, player, move):\n",
    "        \"\"\"\n",
    "        Update the board based on the player's given move.\n",
    "        Also updates the board's `data` field to log move history.\n",
    "\n",
    "        Args:\n",
    "            board : The board being played on\n",
    "            player : The player who made the move\n",
    "            move : The move being made\n",
    "        \"\"\"\n",
    "        board.data[str(board.state)] = (player.name, move)\n",
    "        \n",
    "        board.state[move[\"vertex\"]][\"color\"] = move[\"color\"]"
   ]
  },
  {
   "cell_type": "markdown",
   "metadata": {},
   "source": [
    "Now to implement a very primitive strategy."
   ]
  },
  {
   "cell_type": "code",
   "execution_count": 120,
   "metadata": {},
   "outputs": [],
   "source": [
    "class GraphColoringStrategy(StrategyInterface):\n",
    "\n",
    "    def __init__(self, name, data = None):\n",
    "        \"\"\"\n",
    "        Strategy constructor.\n",
    "\n",
    "        Args:\n",
    "            name : The name of the strategy\n",
    "            data : (Optional) Data to read from to influence moves.\n",
    "        \"\"\"\n",
    "        self.name = name\n",
    "        self.data = data\n",
    "\n",
    "    def move(self, board):\n",
    "        \"\"\"\n",
    "        Make a move based on colors available.\n",
    "        This is psuedo-smart in the sense that it attempts to choose the lowest-index\n",
    "        vertex and colors it with the lowest-value available color in the lost.\n",
    "\n",
    "        Args:\n",
    "            board : The board being played on\n",
    "\n",
    "        Return:\n",
    "            A proposed move.\n",
    "        \"\"\"\n",
    "        #vertex = randrange(0, len(board.state))\n",
    "        #color = randrange(1, board.bounds + 1)\n",
    "        for vtx in range(len(board.state)):\n",
    "            if board.state[vtx][\"color\"] == 0:\n",
    "                for color in range(1, board.bounds + 1):\n",
    "                    for neighbor in board.state[vtx][\"adj\"]:\n",
    "                        if board.state[neighbor][\"color\"] == color:\n",
    "                            break\n",
    "                        return {\"vertex\": vtx, \"color\": color}\n",
    "        \n",
    "        #return {\"vertex\": vertex, \"color\": color}\n",
    "        return None"
   ]
  },
  {
   "cell_type": "markdown",
   "metadata": {},
   "source": [
    "The board state will be the graph itself, with the initial state being an uncolored graph\n",
    "* The graph is list of dictionaries\n",
    "* Each dictionary is a vertex, with the index in the list being its ID\n",
    "* Each node has a \"color\" field, representing what color it is, and an \"adj\" field, representing its neighbors\n",
    "* The \"adj\" field is a list of IDs, with each ID being the ID of a neighboring vertex\n",
    "* Each node's default color is 0\n",
    "\n",
    "The bounds of the graph will be the maximum number of colors that can be used\n",
    "\n",
    "A `move` is a dictionary in the form of `{\"vertex\": int, \"color\": int}`"
   ]
  },
  {
   "cell_type": "code",
   "execution_count": 105,
   "metadata": {},
   "outputs": [],
   "source": [
    "initial_state = [\n",
    "    {\"color\": 0, \"adj\": [1, 3]},\n",
    "    {\"color\": 0, \"adj\": [0, 2, 3]},\n",
    "    {\"color\": 0, \"adj\": [1]},\n",
    "    {\"color\": 0, \"adj\": [0, 1]},\n",
    "]"
   ]
  },
  {
   "cell_type": "code",
   "execution_count": 106,
   "metadata": {},
   "outputs": [],
   "source": [
    "bounds = 3"
   ]
  },
  {
   "cell_type": "code",
   "execution_count": 117,
   "metadata": {},
   "outputs": [
    {
     "name": "stdout",
     "output_type": "stream",
     "text": [
      "player1 -> {'vertex': 0, 'color': 1}\n",
      "player2 -> {'vertex': 1, 'color': 2}\n",
      "player1 -> {'vertex': 2, 'color': 1}\n",
      "player2 -> None\n",
      "Winner: player1\n"
     ]
    }
   ],
   "source": [
    "ruleset =  GraphColoringRuleset(\"Graph Coloring Ruleset\", initial_state, bounds)\n",
    "strategy = GraphColoringStrategy(\"Random Strategy for Graph Coloring\")\n",
    "\n",
    "p1 = Player(\"player1\", strategy)\n",
    "p2 = Player(\"player2\", strategy)\n",
    "\n",
    "board = Board(ruleset.initial_state, ruleset.bounds)\n",
    "\n",
    "ref = Referee(board, ruleset)\n",
    "\n",
    "game = Game(ref, board, [p1, p2])\n",
    "\n",
    "board = game.play(True)"
   ]
  },
  {
   "cell_type": "code",
   "execution_count": 119,
   "metadata": {},
   "outputs": [
    {
     "data": {
      "text/plain": [
       "[{'color': 1, 'adj': [1, 3]},\n",
       " {'color': 2, 'adj': [0, 2, 3]},\n",
       " {'color': 1, 'adj': [1]},\n",
       " {'color': 0, 'adj': [0, 1]}]"
      ]
     },
     "execution_count": 119,
     "metadata": {},
     "output_type": "execute_result"
    }
   ],
   "source": [
    "board.state"
   ]
  },
  {
   "cell_type": "code",
   "execution_count": null,
   "metadata": {},
   "outputs": [],
   "source": []
  }
 ],
 "metadata": {
  "kernelspec": {
   "display_name": "Python 3",
   "language": "python",
   "name": "python3"
  },
  "language_info": {
   "codemirror_mode": {
    "name": "ipython",
    "version": 3
   },
   "file_extension": ".py",
   "mimetype": "text/x-python",
   "name": "python",
   "nbconvert_exporter": "python",
   "pygments_lexer": "ipython3",
   "version": "3.9.1"
  }
 },
 "nbformat": 4,
 "nbformat_minor": 4
}
