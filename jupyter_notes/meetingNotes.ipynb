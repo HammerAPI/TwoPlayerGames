{
 "cells": [
  {
   "cell_type": "markdown",
   "metadata": {},
   "source": [
    "# Meeting Notes\n"
   ]
  },
  {
   "cell_type": "markdown",
   "metadata": {},
   "source": [
    "## 2/5/2021\n",
    "\n",
    "Project status: Implement working Unbalanced Rook(UR) by 2/12/2021\n",
    "\n",
    "Issue: Toothpick takeaway strategy was always the same move set of {1,2} whereas in UR the piece is on an (x,y) coordinate. To develop strategies for UR in a similar way as previously, the input will be a position on the grid (x,y) and the output will be a direction (down or right) followed by number of spaces. For example: input(3,2), output(d,4) with (0,0) being in the top left corner.\n",
    "\n",
    "Generating a population of players or evolution (a step by step process): \n",
    "   - 1) Generate a large player base with random strategies for each player\n",
    "   - 2) Hold a tournament with the player base\n",
    "   - 3) Track the winner of each game\n",
    "   - 4) Keep player with a set win rate(~60%-80%?) or above and remove those below the threshold\n",
    "   - 5) Generate new players as needed and hold tournaments until a noticed pattern occurs\n",
    "    \n",
    "Evolving:\n",
    "   - A splice funciton that will take random pieces of the parent's strategy(coin flip) for each move and make the strategy that way. Include random mutation that will change one piece of a strategy output to increasy diversity in strategies.\n",
    "   \n",
    "   ex:(assumes all moves legal) \n",
    "|Player|In1|Out1|In2|Out2|\n",
    "|------|------|------|-----|-----|\n",
    "|Parent1  |0,0     |D,2     |0,1      |R,5  |\n",
    "|Parent2  |0,0     |R,4     |0,1      |D,6  |\n",
    "|Child    |0,0     |D,2     |0,1      |D,6  |\n",
    "\n",
    "- The child will randomly take from its \"parents\" strategies to create a new strategy for each board state\n",
    "    \n",
    "Decisions:\n",
    "   - 1) Should the losing players dropped from a tournament be kept around?(loser's bracket)\n",
    "   - 2) Does an illegal move mean instant loss?\n",
    "   - 3) What is the representation of a strategy? (make clear inputs/outputs)\n",
    "    \n"
   ]
  },
  {
   "cell_type": "code",
   "execution_count": null,
   "metadata": {},
   "outputs": [],
   "source": []
  }
 ],
 "metadata": {
  "kernelspec": {
   "display_name": "Python 3",
   "language": "python",
   "name": "python3"
  },
  "language_info": {
   "codemirror_mode": {
    "name": "ipython",
    "version": 3
   },
   "file_extension": ".py",
   "mimetype": "text/x-python",
   "name": "python",
   "nbconvert_exporter": "python",
   "pygments_lexer": "ipython3",
   "version": "3.7.9"
  }
 },
 "nbformat": 4,
 "nbformat_minor": 4
}
