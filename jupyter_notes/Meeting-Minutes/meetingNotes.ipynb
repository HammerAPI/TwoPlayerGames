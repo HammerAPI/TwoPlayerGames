{
 "cells": [
  {
   "cell_type": "markdown",
   "metadata": {},
   "source": [
    "# Meeting Notes\n"
   ]
  },
  {
   "cell_type": "markdown",
   "metadata": {},
   "source": [
    "## 2/5/2021\n",
    "\n",
    "Project status: Implement working Unbalanced Rook(UR) by 2/12/2021\n",
    "\n",
    "Issue: Toothpick takeaway strategy was always the same move set of {1,2} whereas in UR the piece is on an (x,y) coordinate. To develop strategies for UR in a similar way as previously, the input will be a position on the grid (x,y) and the output will be a direction (down or right) followed by number of spaces. For example: input(3,2), output(d,4) with (0,0) being in the top left corner.\n",
    "\n",
    "Generating a population of players or evolution (a step by step process): \n",
    "   - 1) Generate a large player base with random strategies for each player\n",
    "   - 2) Hold a tournament with the player base\n",
    "   - 3) Track the winner of each game\n",
    "   - 4) Keep player with a set win rate(~60%-80%?) or above and remove those below the threshold\n",
    "   - 5) Generate new players as needed and hold tournaments until a noticed pattern occurs\n",
    "    \n",
    "Evolving:\n",
    "   - A splice funciton that will take random pieces of the parent's strategy(coin flip) for each move and make the strategy that way. Include random mutation that will change one piece of a strategy output to increasy diversity in strategies.\n",
    "   \n",
    "   ex:(assumes all moves legal) \n",
    "|Player|In1|Out1|In2|Out2|\n",
    "|------|------|------|-----|-----|\n",
    "|Parent1  |0,0     |D,2     |0,1      |R,5  |\n",
    "|Parent2  |0,0     |R,4     |0,1      |D,6  |\n",
    "|Child    |0,0     |D,2     |0,1      |D,6  |\n",
    "\n",
    "- The child will randomly take from its \"parents\" strategies to create a new strategy for each board state\n",
    "    \n",
    "Decisions:\n",
    "   - 1) Should the losing players dropped from a tournament be kept around?(loser's bracket)\n",
    "   - 2) Does an illegal move mean instant loss?\n",
    "   - 3) What is the representation of a strategy? (make clear inputs/outputs)\n",
    "    \n"
   ]
  },
  {
   "cell_type": "code",
   "execution_count": null,
   "metadata": {},
   "outputs": [],
   "source": []
  },
  {
   "cell_type": "markdown",
   "metadata": {},
   "source": [
    "## 2/12/2021"
   ]
  },
  {
   "cell_type": "markdown",
   "metadata": {},
   "source": [
    "Updates since previous meeting:\n",
    "- each game has a notebook in the directory explaining how to implement runa nd collect data on a game.\n",
    "- The README files contain what the game is, an example game, definitions of the board, moveset, etc.\n",
    "- There is an overview notebook containing our process and some findings of last semester's research which can be used to create a final writup of the research or added onto for research with unbalanced rook\n",
    "- \n",
    "\n",
    "Ideas/Notes: \n",
    "- For the check functions (to see when game is finished0 include an example of a legal and illegal move, along with what makes the game end. This will make it easier to write unit tests.\n",
    "- Students dont often see the importance of abstraction, as it can complicate things for some students\n",
    "    - But fighting through the difficult abstracting tasks will make future pieces fit together easier and make them easier to understand.\n",
    "    - Advice: the difference in understand how to abstract can cause conflict in ideas and methods, which is not inherently bad but may cause some frustration\n",
    "- all function in the code should include data types for parameters and returns in the docstrings, along w examples if necessary.\n",
    "\n",
    "Requests:\n",
    "- Keep a record of signifcant challenges and how we solved them for refrence in the future\n",
    "    - include anything significant, but the problem should not be that person A wrote bad code\n",
    "    - even something as simple as miscommunication should be included and how we resolve the issue.\n",
    "    - i.e problem: the definition of abstraction from the view of cs and math.\n",
    "    - solution: clearly define what abstraction means in this situation and how far to take it.\n",
    "\n",
    "Weeks goals:\n",
    "- Submit the abstract, make sure that we are underpromising on it. better to say less and give more.\n",
    "- csv writer by next meeting 2/19/21. attempt to make a generic one\n",
    "    - may be better to create a csv writer for each game because different pieces of each move is needed. \n",
    "- Penland should email by tuesday 2/16/21 about how to generate the population of players.\n"
   ]
  },
  {
   "cell_type": "markdown",
   "metadata": {},
   "source": [
    "more on csv writer:\n",
    "- the csv can be set up with keys/columns being the state of the game(in toothpick takeaway # of toothpick left), with the contents being a tuple of the (player,move)\n",
    "- may be better to split up the tuple into two columns.\n",
    "- if we are to abstract the csv writer we may loe out on easy access to information, as each game is different and may have a different complexity in their moveset.\n",
    "- should be fine with whatever we decide to do should get us through the MAA confrence but we ma come back to change it later.\n",
    "    - implement in a way that makes sense to students, Penland may change it later\n",
    "\n",
    "Other:\n",
    "- Could look at TPT as binary representation (*i dont really understand what this means but im gonna pretend like i do*)\n",
    "- \n",
    "\n"
   ]
  },
  {
   "cell_type": "code",
   "execution_count": null,
   "metadata": {},
   "outputs": [],
   "source": []
  }
 ],
 "metadata": {
  "kernelspec": {
   "display_name": "Python 3",
   "language": "python",
   "name": "python3"
  },
  "language_info": {
   "codemirror_mode": {
    "name": "ipython",
    "version": 3
   },
   "file_extension": ".py",
   "mimetype": "text/x-python",
   "name": "python",
   "nbconvert_exporter": "python",
   "pygments_lexer": "ipython3",
   "version": "3.7.9"
  }
 },
 "nbformat": 4,
 "nbformat_minor": 4
}
