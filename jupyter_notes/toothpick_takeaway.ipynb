{
 "cells": [
  {
   "cell_type": "markdown",
   "metadata": {},
   "source": [
    "# 10-1-2 Toothpick Takeaway"
   ]
  },
  {
   "cell_type": "markdown",
   "metadata": {},
   "source": [
    "## Table of Contents\n",
    "* [The Game Itself](#The-Game-Itself)\n",
    "    * [Rules](#Rules)\n",
    "    * [Examples](#Examples)\n",
    "    * [Manually-Collected Data](#Manually-Collected-Data)\n",
    "* [Game Components](#Game-Components)\n",
    "    * [A Player](#A-Player)\n",
    "    * [Somewhere to Play](#Somewhere-to-Play)\n",
    "    * [Moves](#Moves)\n",
    "    * [Checking Legality](#Checking-Legality)\n",
    "    * [Who Won?](#Who-Won?)\n",
    "    * [Turn to Turn](#Turn-to-Turn)\n",
    "* [Playing the Game](#Playing-the-Game)\n",
    "    * [Simulator](#Simulator)\n",
    "    * [Gathering Data](#Gathering-Data)\n",
    "    * [Trying New Strategies](#Trying-New-Strategies)\n",
    "* [Logical Conclusions](#Logical-Conclusions)\n",
    "    * [Common cases](#Common-Cases)\n",
    "    * [Optimal Strategies](#Optimal-Strategies)\n",
    "        * [Player 1](#Player-1)\n",
    "        * [Player 2](#Player-2)\n",
    "    * [Summary](#Summary)"
   ]
  },
  {
   "cell_type": "markdown",
   "metadata": {},
   "source": [
    "## The Game Itself\n",
    "*Toothpick Takeaway* is a simple two-player game involving a number of toothpicks on the table (in our case, 10) and two players alternating picking them up. Each player has the ability to pick up one or two toothpicks on his or her turn. Whoever picks up the last toothpick wins"
   ]
  },
  {
   "cell_type": "markdown",
   "metadata": {},
   "source": [
    "### Rules\n",
    "1. There are 10 toothpicks on a table. \n",
    "2. The two players alternate taking toothpicks off the table. \n",
    "3. At each turn, the player may take either 1 or 2 toothpicks.\n",
    "4. If a player can not make a legal move, that player loses. This includes the situation where the table is left empty by the previous player's move."
   ]
  },
  {
   "cell_type": "markdown",
   "metadata": {},
   "source": [
    "### Examples\n",
    "Below are a few examples demonstrating gameplay with basic strategies. Then `Turn` column represents what turn of the game it is, and the `Player` columns indicate how many toothpicks each player picked up on each turn"
   ]
  },
  {
   "cell_type": "markdown",
   "metadata": {},
   "source": [
    "<h4><center>No apparent strategy</center></h4>\n",
    "\n",
    "| Turn | Player 1 | Player 2 |\n",
    "|:----:|:--------:|:--------:|\n",
    "|   0  |     2    |          |\n",
    "|   1  |          |     1    |\n",
    "|   2  |     2    |          |\n",
    "|   3  |          |     1    |\n",
    "|   4  |     1    |          |\n",
    "|   5  |          |     1    |\n",
    "|   6  |     2    |          |"
   ]
  },
  {
   "cell_type": "markdown",
   "metadata": {},
   "source": [
    "<h4><center>Player 1 always takes 2</center></h4>\n",
    "\n",
    "| Turn | Player 1 | Player 2 |\n",
    "|:----:|:--------:|:--------:|\n",
    "|   0  |     2    |          |\n",
    "|   1  |          |     1    |\n",
    "|   2  |     2    |          |\n",
    "|   3  |          |     2    |\n",
    "|   4  |     2    |          |\n",
    "|   5  |          |     1    |"
   ]
  },
  {
   "cell_type": "markdown",
   "metadata": {},
   "source": [
    "<h4><center>Player 1 always takes 1</center></h4>\n",
    "\n",
    "| Turn | Player 1 | Player 2 |\n",
    "|:----:|:--------:|:--------:|\n",
    "|   0  |     1    |          |\n",
    "|   1  |          |     2    |\n",
    "|   2  |     1    |          |\n",
    "|   3  |          |     1    |\n",
    "|   4  |     1    |          |\n",
    "|   5  |          |     1    |\n",
    "|   6  |     1    |          |\n",
    "|   7  |          |     2    |"
   ]
  },
  {
   "cell_type": "markdown",
   "metadata": {},
   "source": [
    "### Manually-Collected Data\n",
    "\n",
    "From our exercises playing the game, we gather that [TODO]"
   ]
  },
  {
   "cell_type": "markdown",
   "metadata": {},
   "source": [
    "## Game Components\n",
    "**Definition:** A *game* consists of the following:\n",
    "1. A set $P$ of players.\n",
    "2. A board $S$, which consists of all states of the game.\n",
    "3. A set $M$ of moves.\n",
    "4. A *legality function* whose domain is S x M: it takes the current state of the  and whose outputs are \"legal\" or \"illegal\" (or \"yes\" and \"no\", etc.)\n",
    "5. A *winning function* that determines whether or not the current player has won.\n",
    "6. An *update function* that takes three inputs:\n",
    "            The Player whose turn it is\n",
    "            The state of the game\n",
    "            The player's move\n",
    "        and returns:\n",
    "            The Player whose turn it is\n",
    "            The new state of the game\n"
   ]
  },
  {
   "cell_type": "markdown",
   "metadata": {},
   "source": [
    "### A Player\n",
    "a"
   ]
  },
  {
   "cell_type": "markdown",
   "metadata": {},
   "source": [
    "### Somewhere to Play\n",
    "a"
   ]
  },
  {
   "cell_type": "markdown",
   "metadata": {},
   "source": [
    "### Moves\n",
    "a"
   ]
  },
  {
   "cell_type": "markdown",
   "metadata": {},
   "source": [
    "### Checking Legality\n",
    "a"
   ]
  },
  {
   "cell_type": "markdown",
   "metadata": {},
   "source": [
    "### Who Won?\n",
    "a"
   ]
  },
  {
   "cell_type": "markdown",
   "metadata": {},
   "source": [
    "### Turn to Turn\n",
    "a"
   ]
  },
  {
   "cell_type": "markdown",
   "metadata": {},
   "source": [
    "## Playing the Game\n",
    "a"
   ]
  },
  {
   "cell_type": "markdown",
   "metadata": {},
   "source": [
    "### Simulator\n",
    "a"
   ]
  },
  {
   "cell_type": "code",
   "execution_count": 1,
   "metadata": {},
   "outputs": [],
   "source": [
    "def play_game(player_set, move_set, state_set, is_legal, is_winning, update_function):\n",
    "    \"\"\"\n",
    "    returns winning_player -- the player who has won the game\n",
    "    \"\"\"\n",
    "    game_over = False\n",
    "    current_player = player_set[0] #Assume the first player goes first. \n",
    "\n",
    "    while(not(game_over)):\n",
    "        player_move = current_player.move(state) #ask for the player's move; this can be automated or human-in-the-loop\n",
    "        if is_legal(player_move): #check to see if the move is legal\n",
    "            next_player, new_state = update_function(player, move, state)\n",
    "            if is_winning(new_state): #check to see if the player won\n",
    "                winning_player = current_player\n",
    "                return winning_player\n",
    "            else: #if no one won, update turn and board\n",
    "                current_player = next_player\n",
    "                state = new_state "
   ]
  },
  {
   "cell_type": "markdown",
   "metadata": {},
   "source": [
    "### Gathering Data\n",
    "a"
   ]
  },
  {
   "cell_type": "markdown",
   "metadata": {},
   "source": [
    "### Trying New Strategies\n",
    "a"
   ]
  },
  {
   "cell_type": "markdown",
   "metadata": {},
   "source": [
    "## Logical Conclusions\n",
    "a"
   ]
  },
  {
   "cell_type": "markdown",
   "metadata": {},
   "source": [
    "### Common Cases\n",
    "a"
   ]
  },
  {
   "cell_type": "markdown",
   "metadata": {},
   "source": [
    "### Optimal Strategies\n",
    "a"
   ]
  },
  {
   "cell_type": "markdown",
   "metadata": {},
   "source": [
    "#### Player 1\n",
    "a"
   ]
  },
  {
   "cell_type": "markdown",
   "metadata": {},
   "source": [
    "#### Player 2\n",
    "a"
   ]
  },
  {
   "cell_type": "markdown",
   "metadata": {},
   "source": [
    "### Summary\n",
    "a"
   ]
  }
 ],
 "metadata": {
  "kernelspec": {
   "display_name": "Python 3",
   "language": "python",
   "name": "python3"
  },
  "language_info": {
   "codemirror_mode": {
    "name": "ipython",
    "version": 3
   },
   "file_extension": ".py",
   "mimetype": "text/x-python",
   "name": "python",
   "nbconvert_exporter": "python",
   "pygments_lexer": "ipython3",
   "version": "3.8.5"
  }
 },
 "nbformat": 4,
 "nbformat_minor": 4
}
