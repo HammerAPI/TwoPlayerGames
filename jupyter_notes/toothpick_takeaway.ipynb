{
 "cells": [
  {
   "cell_type": "markdown",
   "metadata": {},
   "source": [
    "# 10-1-2 Toothpick Takeaway"
   ]
  },
  {
   "cell_type": "markdown",
   "metadata": {},
   "source": [
    "## Table of Contents\n",
    "* [The Game Itself](#The-Game-Itself)\n",
    "    * [Rules](#Rules)\n",
    "    * [Examples](#Examples)\n",
    "    * [Manually-Collected Data](#Manually-Collected-Data)\n",
    "* [Game Components](#Game-Components)\n",
    "    * [A Player](#A-Player)\n",
    "    * [Somewhere to Play](#Somewhere-to-Play)\n",
    "    * [Moves](#Moves)\n",
    "    * [Checking Legality](#Checking-Legality)\n",
    "    * [Who Won?](#Who-Won?)\n",
    "    * [Turn to Turn](#Turn-to-Turn)\n",
    "* [Playing the Game](#Playing-the-Game)\n",
    "    * [Simulator](#Simulator)\n",
    "    * [Gathering Data](#Gathering-Data)\n",
    "    * [Trying New Strategies](#Trying-New-Strategies)\n",
    "* [Logical Conclusions](#Logical-Conclusions)\n",
    "    * [Common cases](#Common-Cases)\n",
    "    * [Optimal Strategies](#Optimal-Strategies)\n",
    "        * [Player 1](#Player-1)\n",
    "        * [Player 2](#Player-2)\n",
    "    * [Summary](#Summary)"
   ]
  },
  {
   "cell_type": "markdown",
   "metadata": {},
   "source": [
    "## The Game Itself\n",
    "*Toothpick Takeaway* is a simple two-player game involving a number of toothpicks on the table (in our case, 10) and two players alternating picking them up. Each player has the ability to pick up one or two toothpicks on his or her turn. Whoever picks up the last toothpick wins"
   ]
  },
  {
   "cell_type": "markdown",
   "metadata": {},
   "source": [
    "### Rules\n",
    "1. There are 10 toothpicks on a table. \n",
    "2. The two players alternate taking toothpicks off the table. \n",
    "3. At each turn, the player may take either 1 or 2 toothpicks.\n",
    "4. If a player can not make a legal move, that player loses. This includes the situation where the table is left empty by the previous player's move."
   ]
  },
  {
   "cell_type": "markdown",
   "metadata": {},
   "source": [
    "### Examples\n",
    "Below are a few examples demonstrating gameplay with basic strategies. Then `Turn` column represents what turn of the game it is, and the `Player` columns indicate how many toothpicks each player picked up on each turn"
   ]
  },
  {
   "cell_type": "markdown",
   "metadata": {},
   "source": [
    "<h4><center>No apparent strategy</center></h4>\n",
    "\n",
    "| Turn | Player 1 | Player 2 |\n",
    "|:----:|:--------:|:--------:|\n",
    "|   0  |     2    |          |\n",
    "|   1  |          |     1    |\n",
    "|   2  |     2    |          |\n",
    "|   3  |          |     1    |\n",
    "|   4  |     1    |          |\n",
    "|   5  |          |     1    |\n",
    "|   6  |     2    |          |"
   ]
  },
  {
   "cell_type": "markdown",
   "metadata": {},
   "source": [
    "<h4><center>Player 1 always takes 2</center></h4>\n",
    "\n",
    "| Turn | Player 1 | Player 2 |\n",
    "|:----:|:--------:|:--------:|\n",
    "|   0  |     2    |          |\n",
    "|   1  |          |     1    |\n",
    "|   2  |     2    |          |\n",
    "|   3  |          |     2    |\n",
    "|   4  |     2    |          |\n",
    "|   5  |          |     1    |"
   ]
  },
  {
   "cell_type": "markdown",
   "metadata": {},
   "source": [
    "<h4><center>Player 1 always takes 1</center></h4>\n",
    "\n",
    "| Turn | Player 1 | Player 2 |\n",
    "|:----:|:--------:|:--------:|\n",
    "|   0  |     1    |          |\n",
    "|   1  |          |     2    |\n",
    "|   2  |     1    |          |\n",
    "|   3  |          |     1    |\n",
    "|   4  |     1    |          |\n",
    "|   5  |          |     1    |\n",
    "|   6  |     1    |          |\n",
    "|   7  |          |     2    |"
   ]
  },
  {
   "cell_type": "markdown",
   "metadata": {},
   "source": [
    "### Manually-Collected Data\n",
    "\n",
    "From our exercises playing the game, we gather that: ANDY PUT STUFF HERE"
   ]
  },
  {
   "cell_type": "markdown",
   "metadata": {},
   "source": [
    "## Game Components\n",
    "**Definition:** A *game* consists of the following:\n",
    "1. A set $P$ of players.\n",
    "2. A board $S$, which consists of all states of the game.\n",
    "3. A set $M$ of moves.\n",
    "4. A *legality function* whose domain is S x M: it takes the current state of the  and whose outputs are \"legal\" or \"illegal\" (or \"yes\" and \"no\", etc.)\n",
    "5. A *winning function* that determines whether or not the current player has won.\n",
    "6. An *update function* that takes three inputs:\n",
    "            The Player whose turn it is\n",
    "            The state of the game\n",
    "            The player's move\n",
    "        and returns:\n",
    "            The Player whose turn it is\n",
    "            The new state of the game\n"
   ]
  },
  {
   "cell_type": "markdown",
   "metadata": {},
   "source": [
    "### A Player\n",
    "A `Player` needs to be able to be able to play a move"
   ]
  },
  {
   "cell_type": "code",
   "execution_count": 22,
   "metadata": {},
   "outputs": [],
   "source": [
    "class Player:\n",
    "    def __init__(self):\n",
    "        pass\n",
    "    \n",
    "    def move(the_board):\n",
    "        pass"
   ]
  },
  {
   "cell_type": "markdown",
   "metadata": {},
   "source": [
    "### Somewhere to Play\n",
    "a"
   ]
  },
  {
   "cell_type": "code",
   "execution_count": 23,
   "metadata": {},
   "outputs": [],
   "source": [
    "class Board:\n",
    "    def __init__(self):\n",
    "        self.move_set = []\n",
    "        self.state = None\n",
    "\n",
    "    def update(self):\n",
    "        pass"
   ]
  },
  {
   "cell_type": "markdown",
   "metadata": {},
   "source": [
    "### Moves\n",
    "a"
   ]
  },
  {
   "cell_type": "markdown",
   "metadata": {},
   "source": [
    "### Checking Legality\n",
    "a"
   ]
  },
  {
   "cell_type": "code",
   "execution_count": 24,
   "metadata": {},
   "outputs": [],
   "source": [
    "def is_legal(state, move):\n",
    "    pass"
   ]
  },
  {
   "cell_type": "markdown",
   "metadata": {},
   "source": [
    "### Who Won?\n",
    "a"
   ]
  },
  {
   "cell_type": "code",
   "execution_count": 25,
   "metadata": {},
   "outputs": [],
   "source": [
    "def is_winning(state):\n",
    "    pass"
   ]
  },
  {
   "cell_type": "markdown",
   "metadata": {},
   "source": [
    "### Turn to Turn\n",
    "a"
   ]
  },
  {
   "cell_type": "markdown",
   "metadata": {},
   "source": [
    "## Playing the Game\n",
    "Now that we have the core components of the game, let's put it all together and actually play!"
   ]
  },
  {
   "cell_type": "markdown",
   "metadata": {},
   "source": [
    "### Simulator\n",
    "a"
   ]
  },
  {
   "cell_type": "code",
   "execution_count": 26,
   "metadata": {},
   "outputs": [],
   "source": [
    "def play_game(player_set, move_set, state_set, is_legal, is_winning, update_function):\n",
    "    \"\"\"\n",
    "    returns winning_player -- the player who has won the game\n",
    "    \"\"\"\n",
    "    game_over = False\n",
    "    current_player = player_set[0] #Assume the first player goes first. \n",
    "\n",
    "    while(not(game_over)):\n",
    "        player_move = current_player.move(state) #ask for the player's move; this can be automated or human-in-the-loop\n",
    "        if is_legal(player_move): #check to see if the move is legal\n",
    "            next_player, new_state = update_function(player, move, state)\n",
    "            if is_winning(new_state): #check to see if the player won\n",
    "                winning_player = current_player\n",
    "                return winning_player\n",
    "            else: #if no one won, update turn and board\n",
    "                current_player = next_player\n",
    "                state = new_state "
   ]
  },
  {
   "cell_type": "markdown",
   "metadata": {},
   "source": [
    "### Gathering Data\n",
    "To better help visualize the data, we have constructed a function that displays all possible move scenarios."
   ]
  },
  {
   "cell_type": "code",
   "execution_count": 1,
   "metadata": {},
   "outputs": [],
   "source": [
    "def display_turn_tree(cards_left, player, cards_taken, turn):\n",
    "    \"\"\"\n",
    "    Displays a tree of all possible turns for Toothpick Takeaway\n",
    "\n",
    "    Args:\n",
    "        cards_left  (int) : The number of cards left on the table AFTER the turn\n",
    "        player:     (int) : The player who just picked up cards\n",
    "        cards_taken (int) : How many cards the player picked up\n",
    "        turn:       (int) : Which turn of the match it is\n",
    "\n",
    "    Returns:\n",
    "        N/A\n",
    "    \"\"\"\n",
    "\n",
    "    # Indent the line relative to what turn of the match it is\n",
    "    for _ in range(turn):\n",
    "        print(end=\"    \")\n",
    "\n",
    "    # Print out the formatted string of the player and game state\n",
    "    print(\"P{}-{}: ({})\".format(player, cards_taken, cards_left))\n",
    "\n",
    "    # If no more cards are left, return\n",
    "    if cards_left == 0:\n",
    "        return\n",
    "\n",
    "    # Else, increase the turn counter and change the player\n",
    "    turn += 1\n",
    "    next_player = ((player) % 2) + 1\n",
    "\n",
    "    # Recurse if player takes 1 card\n",
    "    display_turn_tree(cards_left - 1, next_player, 1, turn)\n",
    "    # Recurse if player takes 2 cards (only possible if there are at least 2 cards left)\n",
    "    if cards_left > 1:\n",
    "        display_turn_tree(cards_left - 2, next_player, 2, turn)"
   ]
  },
  {
   "cell_type": "code",
   "execution_count": 2,
   "metadata": {},
   "outputs": [
    {
     "name": "stdout",
     "output_type": "stream",
     "text": [
      "P1-1: (4)\n",
      "    P2-1: (3)\n",
      "        P1-1: (2)\n",
      "            P2-1: (1)\n",
      "                P1-1: (0)\n",
      "            P2-2: (0)\n",
      "        P1-2: (1)\n",
      "            P2-1: (0)\n",
      "    P2-2: (2)\n",
      "        P1-1: (1)\n",
      "            P2-1: (0)\n",
      "        P1-2: (0)\n"
     ]
    }
   ],
   "source": [
    "# Example, playing with 5 cards with Player 1\n",
    "# removing 1 card on his/her first turn\n",
    "\n",
    "# Format: P[player]-[cards taken]: (cards left)\n",
    "display_turn_tree(4, 1, 1, 0)"
   ]
  },
  {
   "cell_type": "markdown",
   "metadata": {},
   "source": [
    "### Trying New Strategies\n",
    "a"
   ]
  },
  {
   "cell_type": "markdown",
   "metadata": {},
   "source": [
    "## Logical Conclusions\n",
    "a"
   ]
  },
  {
   "cell_type": "markdown",
   "metadata": {},
   "source": [
    "### Common Cases\n",
    "a"
   ]
  },
  {
   "cell_type": "markdown",
   "metadata": {},
   "source": [
    "### Optimal Strategies\n",
    "a"
   ]
  },
  {
   "cell_type": "markdown",
   "metadata": {},
   "source": [
    "#### Player 1\n",
    "a"
   ]
  },
  {
   "cell_type": "markdown",
   "metadata": {},
   "source": [
    "#### Player 2\n",
    "a"
   ]
  },
  {
   "cell_type": "markdown",
   "metadata": {},
   "source": [
    "### Summary\n",
    "a"
   ]
  },
  {
   "cell_type": "raw",
   "metadata": {},
   "source": [
    "NOTES\n",
    "p2 mirroring is a bad strategy\n",
    "\n",
    "assuming both players know the best strat to win:\n",
    "If it is your turn and there are 3 cards left, your opponent can always win\n",
    "If it is your turn and there are 4 cards left, take 1 and you will win\n",
    "If it is your turn and there are 5 cards left, take 2 and you will win\n",
    "\n",
    "If it is your turn to draw from a pile of 6, you are guaranteed to lose\n",
    "\n",
    "Force yourself into a position where it will be your turn to draw when there are 4-5 cards left\n",
    "\n",
    "If there are 8 left on your turn, take 2"
   ]
  }
 ],
 "metadata": {
  "kernelspec": {
   "display_name": "Python 3",
   "language": "python",
   "name": "python3"
  },
  "language_info": {
   "codemirror_mode": {
    "name": "ipython",
    "version": 3
   },
   "file_extension": ".py",
   "mimetype": "text/x-python",
   "name": "python",
   "nbconvert_exporter": "python",
   "pygments_lexer": "ipython3",
   "version": "3.8.5"
  }
 },
 "nbformat": 4,
 "nbformat_minor": 4
}
