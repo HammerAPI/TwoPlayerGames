{
 "cells": [
  {
   "cell_type": "markdown",
   "metadata": {},
   "source": [
    "### How do we defined a move set?\n",
    "#### Ex: Blackjack\n",
    "Your moveset is \"hit\" or \"stay\" and you *could* have the same cards as your opponent. You cannot play your opponents card.\n",
    "\n",
    "Is this a 2-player game defined by our rules? We cannot interact with opponents cards **or** our cards."
   ]
  }
 ],
 "metadata": {
  "kernelspec": {
   "display_name": "Python 3",
   "language": "python",
   "name": "python3"
  },
  "language_info": {
   "codemirror_mode": {
    "name": "ipython",
    "version": 3
   },
   "file_extension": ".py",
   "mimetype": "text/x-python",
   "name": "python",
   "nbconvert_exporter": "python",
   "pygments_lexer": "ipython3",
   "version": "3.8.5"
  }
 },
 "nbformat": 4,
 "nbformat_minor": 4
}
